{
 "cells": [
  {
   "cell_type": "markdown",
   "metadata": {},
   "source": [
    "# Library"
   ]
  },
  {
   "cell_type": "code",
   "execution_count": 1,
   "metadata": {},
   "outputs": [],
   "source": [
    "import os\n",
    "import cv2\n",
    "import numpy as np\n",
    "import matplotlib.pyplot as plt\n",
    "from typing import Callable\n",
    "from dataclasses import dataclass\n",
    "from pprint import pformat\n",
    "# from loguru import logger\n",
    "from pathlib import Path\n",
    "import pandas as pd\n",
    "from tqdm import tqdm"
   ]
  },
  {
   "cell_type": "markdown",
   "metadata": {},
   "source": [
    "## Numpy set seed"
   ]
  },
  {
   "cell_type": "code",
   "execution_count": 1,
   "metadata": {},
   "outputs": [
    {
     "ename": "NameError",
     "evalue": "name 'np' is not defined",
     "output_type": "error",
     "traceback": [
      "\u001b[31m---------------------------------------------------------------------------\u001b[39m",
      "\u001b[31mNameError\u001b[39m                                 Traceback (most recent call last)",
      "\u001b[36mCell\u001b[39m\u001b[36m \u001b[39m\u001b[32mIn[1]\u001b[39m\u001b[32m, line 1\u001b[39m\n\u001b[32m----> \u001b[39m\u001b[32m1\u001b[39m \u001b[43mnp\u001b[49m.random.seed(\u001b[32m42\u001b[39m)\n",
      "\u001b[31mNameError\u001b[39m: name 'np' is not defined"
     ]
    }
   ],
   "source": [
    "np.random.seed(42)"
   ]
  },
  {
   "cell_type": "markdown",
   "metadata": {},
   "source": [
    "## Part 1"
   ]
  },
  {
   "cell_type": "code",
   "execution_count": 2,
   "metadata": {},
   "outputs": [],
   "source": [
    "# Load the npy file\n",
    "# You can use numpy's load function to read .npy files\n",
    "npy_data : np.ndarray= np.load('./weights.npy', allow_pickle=True)"
   ]
  },
  {
   "cell_type": "code",
   "execution_count": 3,
   "metadata": {},
   "outputs": [],
   "source": [
    "def softmax(x):\n",
    "    exp_x = np.exp(x - np.max(x, axis=0, keepdims=True))  # Numerical stability\n",
    "    return exp_x / np.sum(exp_x, axis=0, keepdims=True)\n",
    "\n",
    "\n",
    "def softmax_derivative(softmax_output):\n",
    "    # The derivative of softmax is generally used with cross-entropy loss, but for this example:\n",
    "    s = softmax_output.reshape(-1, 1)\n",
    "    return np.diagflat(s) - np.dot(s, s.T)\n"
   ]
  },
  {
   "cell_type": "code",
   "execution_count": 4,
   "metadata": {},
   "outputs": [],
   "source": [
    "class Tools:\n",
    "    activate_funcs = {\n",
    "        \"sigmoid\": (\n",
    "            lambda x: 1 / (1 + np.exp(-x)),\n",
    "            lambda x: 1 / (1 + np.exp(-x) ** 2),\n",
    "        ),\n",
    "        \"relu\": (lambda x: np.maximum(0, x), lambda x: np.where(x > 0, 1, 0)),\n",
    "        \"leaky_relu\": (\n",
    "            lambda x: np.where(x > 0, x, x * 0.01),\n",
    "            lambda x: np.where(x > 0, 1, 0.01),\n",
    "        ),\n",
    "        \"tanh\": (lambda x: np.tanh(x), lambda x: 1 - np.tanh(x) ** 2),\n",
    "        \"linear\": (lambda x: x, lambda x: 1),\n",
    "        \"softmax\": (\n",
    "            lambda x: np.clip(softmax(x), 1e-15, 1 - 1e-15),\n",
    "            softmax_derivative,\n",
    "        ),\n",
    "    }\n",
    "\n",
    "    loss_funcs = {\n",
    "        \"sse\": (\n",
    "            lambda y, y_hat: np.sum((y - y_hat) ** 2),\n",
    "            lambda y, y_hat: -2 * (y - y_hat),\n",
    "        ),\n",
    "        \"rms\": (\n",
    "            lambda y, y_hat: np.sqrt(np.mean((y - y_hat) ** 2)),\n",
    "            lambda y, y_hat: -(y - y_hat) / (len(y) * np.sqrt(np.sum((y - y_hat) ** 2))),\n",
    "        ),\n",
    "        \"crossentropy\": (\n",
    "            lambda y, y_hat: -np.sum(y * np.log(y_hat)),\n",
    "            lambda y, y_hat: y_hat - y,\n",
    "        )\n",
    "    }\n",
    "\n",
    "    @staticmethod\n",
    "    def activate_func(name: str) -> tuple[Callable, Callable]:\n",
    "        return Tools.activate_funcs[name]\n",
    "\n",
    "    @staticmethod\n",
    "    def loss_func(name: str) -> tuple[Callable, Callable]:\n",
    "        return Tools.loss_funcs[name]\n",
    "\n",
    "    @staticmethod\n",
    "    def rms(y_true: np.ndarray, y_hat: np.ndarray) -> float:\n",
    "        return np.sqrt(np.mean(np.sum(y_true - y_hat) ** 2))"
   ]
  },
  {
   "cell_type": "code",
   "execution_count": 5,
   "metadata": {},
   "outputs": [],
   "source": [
    "@dataclass\n",
    "class Layer:\n",
    "    input_node: int\n",
    "    activate: str\n",
    "    output_node: int\n",
    "    dropout_rate: float = 0.0\n",
    "    zero:bool = False\n",
    "\n",
    "\n",
    "@dataclass\n",
    "class BaseModelLayer:\n",
    "    w: np.ndarray\n",
    "    b: np.ndarray\n",
    "\n",
    "    @classmethod\n",
    "    def zero_like(cls, layer_basic):\n",
    "        w = np.zeros_like(layer_basic.w)\n",
    "        b = np.zeros_like(layer_basic.b)\n",
    "        return cls(w, b)\n",
    "\n",
    "    @property\n",
    "    def shape(self) -> dict:\n",
    "        return {\"w\": self.w.shape, \"b\": self.b.shape}"
   ]
  },
  {
   "cell_type": "code",
   "execution_count": 6,
   "metadata": {},
   "outputs": [],
   "source": [
    "\n",
    "@dataclass\n",
    "class ModelLayer(BaseModelLayer):\n",
    "    activate_str: str\n",
    "    activate: Callable[[np.ndarray], np.ndarray]\n",
    "    activate_derivative: Callable[[np.ndarray], np.ndarray]\n",
    "    dropout_rate: float\n",
    "\n",
    "    @classmethod\n",
    "    def load_weights(cls, w:np.ndarray, b:np.ndarray, activate_str:str, dropout_rate: float = 0.0):\n",
    "        activate, activate_derivative = Tools.activate_func(activate_str)\n",
    "        \n",
    "        return cls(\n",
    "            w=w,\n",
    "            b=b,\n",
    "            dropout_rate=dropout_rate,\n",
    "            activate_str=activate_str,\n",
    "            activate=activate,\n",
    "            activate_derivative=activate_derivative\n",
    "        )\n",
    "    \n",
    "    @classmethod\n",
    "    def build_layer(cls, layer_config: Layer):\n",
    "        if not (0 <= layer_config.dropout_rate < 1):\n",
    "            raise ValueError(\"dropout_rate must between 0 and 1\")\n",
    "\n",
    "        w = np.random.randn(layer_config.output_node, layer_config.input_node)\n",
    "        b = np.random.randn(layer_config.output_node, 1)\n",
    "        \n",
    "        w, b = (\n",
    "            w * np.sqrt(1.0 / layer_config.input_node),\n",
    "            b * 0.01,\n",
    "        )\n",
    "        \n",
    "        if layer_config.zero:\n",
    "            w, b = np.zeros_like(w), np.zeros_like(b)\n",
    "        \n",
    "        activate, activate_derivative = Tools.activate_func(layer_config.activate)\n",
    "        return cls(\n",
    "            w=w,\n",
    "            b=b,\n",
    "            dropout_rate=layer_config.dropout_rate,\n",
    "            activate_str=layer_config.activate,\n",
    "            activate=activate,\n",
    "            activate_derivative=activate_derivative,\n",
    "        )\n",
    "\n",
    "    def forward_drop_out(self, a: np.ndarray) -> tuple[np.ndarray, np.ndarray]:\n",
    "        mask = np.random.binomial(1, 1 - self.dropout_rate, size=a.shape)\n",
    "        a_drop_out = (a * mask) / (1 - self.dropout_rate)\n",
    "        return a_drop_out, mask\n",
    "\n",
    "    def update_delta(\n",
    "        self,\n",
    "        delta: np.ndarray,\n",
    "        layer_next,\n",
    "        z_next: np.ndarray,\n",
    "        mask: np.ndarray = None,\n",
    "    ) -> np.ndarray:\n",
    "\n",
    "        if mask is not None:\n",
    "            delta *= mask\n",
    "\n",
    "        return (self.w.T @ delta) * layer_next.activate_derivative(z_next)\n",
    "\n",
    "    def update(self, grad_item: BaseModelLayer, lr: float) -> None:\n",
    "        assert (\n",
    "            self.w.shape == grad_item.w.shape\n",
    "        ), f\"权重形状不匹配: {self.w.shape} vs {grad_item.w.shape}\"\n",
    "        assert self.b.shape[1] == 1\n",
    "\n",
    "        assert (\n",
    "            self.b.shape == grad_item.b.shape\n",
    "        ), f\"偏置形状不匹配: {self.b.shape} vs {grad_item.b.shape} {grad_item.w.shape}\"\n",
    "\n",
    "        self.w -= lr * grad_item.w\n",
    "        self.b -= lr * grad_item.b\n",
    "        return\n",
    "\n",
    "    def __call__(self, x: np.ndarray) -> tuple[np.ndarray, np.ndarray]:\n",
    "        z = self.w @ x + self.b\n",
    "        a = self.activate(z)\n",
    "        return z, a\n",
    "\n",
    "    def __str__(self) -> str:\n",
    "        return f\"w: {self.w.shape}, b: {self.b.shape}, activate: {self.activate_str}\"\n",
    "\n",
    "    def __repr__(self) -> str:\n",
    "        return self.__str__()"
   ]
  },
  {
   "cell_type": "code",
   "execution_count": null,
   "metadata": {},
   "outputs": [],
   "source": [
    "\n",
    "class DNN:\n",
    "    def __init__(self, layers_config: list[Layer | ModelLayer], loss_func: str = \"sse\"):\n",
    "        \n",
    "        self._input_dim, self._output_dim, self._layers = DNN._dim_layers(layers_config)\n",
    "\n",
    "        self._layers_len = len(self._layers)\n",
    "\n",
    "        self._loss_func, self._loss_derivative = Tools.loss_func(loss_func)\n",
    "\n",
    "        # self._is_multi = self._output_dim > 1\n",
    "\n",
    "        self._model_struct = {\n",
    "            \"input_dim\": self._input_dim,\n",
    "            \"output_dim\": self._output_dim,\n",
    "            \"hidden_layers\": self._layers,\n",
    "            \"loss_func\": loss_func,\n",
    "        }\n",
    "\n",
    "        return\n",
    "    @staticmethod\n",
    "    def _dim_layers(layers_config: list[Layer | ModelLayer]) -> tuple[int, int, dict[int, ModelLayer]]:\n",
    "        sample = layers_config[0]\n",
    "        input_dim , output_dim = None, None\n",
    "        \n",
    "        layers = {}\n",
    "        \n",
    "        if isinstance(sample, Layer):\n",
    "            input_dim , output_dim = (\n",
    "                layers_config[0].input_node,\n",
    "                layers_config[-1].output_node,\n",
    "            )\n",
    "            \n",
    "            layers = {\n",
    "                i: ModelLayer.build_layer(layer)\n",
    "                for i, layer in enumerate(layers_config, start=1)\n",
    "            }\n",
    "            \n",
    "        elif isinstance(sample, ModelLayer):\n",
    "            input_dim , output_dim = (\n",
    "                layers_config[0].w.shape[1],\n",
    "                layers_config[-1].w.shape[0],\n",
    "            )\n",
    "            \n",
    "            layers = {\n",
    "                i: layer\n",
    "                for i, layer in enumerate(layers_config, start=1)\n",
    "            }\n",
    "\n",
    "        return input_dim, output_dim, layers \n",
    "    \n",
    "    @property\n",
    "    def model_struct(self):\n",
    "        return self._model_struct\n",
    "\n",
    "    @property\n",
    "    def w(self):\n",
    "        return self._w\n",
    "\n",
    "    @property\n",
    "    def b(self):\n",
    "        return self._b\n",
    "\n",
    "    def forward(\n",
    "        self, x: np.ndarray, for_backward: bool = False\n",
    "    ) -> (\n",
    "        tuple[dict[int, np.ndarray], dict[int, np.ndarray], dict[int, np.ndarray]]\n",
    "        | np.ndarray\n",
    "    ):\n",
    "\n",
    "        if len(x.shape) == 1:\n",
    "            x = x[:, np.newaxis]\n",
    "\n",
    "        a_out, z_out, mask_out = {0: x}, dict(), dict()\n",
    "\n",
    "        for i, layer in self._layers.items():\n",
    "            z_out[i], a_out[i] = layer(a_out[i - 1])\n",
    "\n",
    "            if layer.dropout_rate > 0 and for_backward:\n",
    "                a_out[i], mask_out[i] = layer.forward_drop_out(a_out[i])\n",
    "\n",
    "        last_item = next(reversed(a_out.values()))\n",
    "\n",
    "        if for_backward:\n",
    "            return last_item, a_out, z_out, mask_out\n",
    "\n",
    "        return last_item\n",
    "\n",
    "    def init_delta(self, a_out: np.ndarray, y: np.ndarray) -> np.ndarray:\n",
    "        # if self._is_multi:\n",
    "\n",
    "        #     return self._loss_derivative(y, softmax(a_out)) / y.shape[1]\n",
    "        # print(y.shape)\n",
    "        return self._loss_derivative(y, a_out) / y.shape[1]\n",
    "\n",
    "    def backward(\n",
    "        self,\n",
    "        end_y_hat: np.ndarray,\n",
    "        a_out: dict[int, np.ndarray],\n",
    "        z_out: dict[int, np.ndarray],\n",
    "        mask_out: dict[int, np.ndarray],\n",
    "        y: np.ndarray,\n",
    "    ) -> dict[int, BaseModelLayer]:\n",
    "        # https://medium.com/@erikhallstrm/backpropagation-from-the-beginning-77356edf427d\n",
    "        \"\"\"\n",
    "        put y data is a column vector , so if data is row vector , please transpose\n",
    "        \"\"\"\n",
    "        grad = {i: BaseModelLayer.zero_like(layer) for i, layer in self._layers.items()}\n",
    "\n",
    "        # init the delta\n",
    "        delta = self.init_delta(end_y_hat, y)\n",
    "        # print({\"delta\": delta, \"y_hat\": end_y_hat, \"y\": y})\n",
    "\n",
    "        for layer_index in reversed(self._layers.keys()):\n",
    "            next_index = layer_index - 1\n",
    "\n",
    "            grad[layer_index].w = delta @ a_out[next_index].T\n",
    "\n",
    "            grad[layer_index].b = np.sum(delta, axis=1, keepdims=True)\n",
    "\n",
    "            if layer_index > 1:\n",
    "                delta = self._layers[layer_index].update_delta(\n",
    "                    delta=delta,\n",
    "                    mask=mask_out.get(layer_index, None),\n",
    "                    layer_next=self._layers[next_index],\n",
    "                    z_next=z_out[next_index],\n",
    "                )\n",
    "\n",
    "        return grad\n",
    "\n",
    "    def _update(self, grad: dict[int, BaseModelLayer], learning_rate: float) -> None:\n",
    "        for i, grad_item in grad.items():\n",
    "            self._layers[i].update(grad_item, lr=learning_rate)\n",
    "\n",
    "        return\n",
    "\n",
    "    def __call__(self, x) -> np.ndarray:\n",
    "        return self.forward(x.T, for_backward=False)\n",
    "\n",
    "    def __str__(self) -> str:\n",
    "        return pformat(self._model_struct)\n",
    "\n",
    "    def _l2_regularization(self, lambda_reg: float = 0.01):\n",
    "        weight_item = [np.sum(np.square(layer.w)) for layer in self._layers.values()]\n",
    "        return lambda_reg * 0.5 * np.sum(weight_item)\n",
    "\n",
    "    def evaluate(self, x: np.ndarray, y: np.ndarray) -> tuple[float, float]:\n",
    "        y_hat = self.forward(x.T, for_backward=False)\n",
    "        loss = self._loss_func(y.T, y_hat)\n",
    "        acc = np.mean(np.argmax(y.T, axis=0) == np.argmax(y_hat, axis=0))\n",
    "        return loss, acc\n",
    "    \n",
    "    \n",
    "    def train(\n",
    "        self,\n",
    "        x: np.ndarray,\n",
    "        y: np.ndarray,\n",
    "        epochs: int,\n",
    "        batch_size: int,\n",
    "        learning_rate: float,\n",
    "        l2: float = 0,\n",
    "        save_folder: str = None,\n",
    "        open_shuffle: bool = True,\n",
    "        addition_check_data:dict[str,np.ndarray] = None\n",
    "    ) -> None:\n",
    "        loss_log = []\n",
    "\n",
    "        for epoch in range(epochs):\n",
    "            X_shuffled = x\n",
    "            y_shuffled = y\n",
    "\n",
    "            if open_shuffle:\n",
    "                indices = np.random.permutation(x.shape[0])\n",
    "                X_shuffled = x[indices]\n",
    "                y_shuffled = y[indices]                \n",
    "\n",
    "            for i in tqdm(range(0, X_shuffled.shape[0], batch_size), desc=f\"epoch {epoch}\"):\n",
    "            # for i in range(0, X_shuffled.shape[0], batch_size):\n",
    "                \n",
    "\n",
    "                X_batch = X_shuffled[i : i + batch_size]\n",
    "                Y_batch = y_shuffled[i : i + batch_size]\n",
    "\n",
    "                x_batch = X_batch.T\n",
    "                y_batch = Y_batch.T\n",
    "\n",
    "                y_hat, a_out, z_out, mask_out = self.forward(x_batch, for_backward=True)\n",
    "\n",
    "                loss = self._loss_func(y_batch, y_hat)\n",
    "                grad = self.backward(y_hat, a_out, z_out, mask_out, y_batch)\n",
    "                \n",
    "                acc = np.mean(np.argmax(y_batch, axis=0) == np.argmax(y_hat, axis=0))\n",
    "\n",
    "                if l2:\n",
    "                    loss += self._l2_regularization(l2)\n",
    "\n",
    "                    # update grad with l2\n",
    "                    for i in grad.keys():\n",
    "                        grad[i].w += l2 * self._layers[i].w\n",
    "\n",
    "                # update\n",
    "                self._update(grad, learning_rate)\n",
    "\n",
    "                loss_log.append({\"epoch\": epoch, \"training_loss\": loss, \"training_acc\": acc})\n",
    "                \n",
    "                if addition_check_data:\n",
    "                    x_check = addition_check_data[\"x\"]\n",
    "                    y_check = addition_check_data[\"y\"]\n",
    "                    loss_check, acc_check = self.evaluate(x_check, y_check)\n",
    "                    loss_log[-1][\"test_loss\"] = loss_check\n",
    "                    loss_log[-1][\"test_acc\"] = acc_check\n",
    "\n",
    "                \n",
    "            # evaluate\n",
    "            train_loss, train_acc = self.evaluate(x, y)\n",
    "            evaluate_dict = {\n",
    "                \"test_loss\": train_loss,\n",
    "                \"test_acc\": train_acc,\n",
    "            }\n",
    "            \n",
    "            if addition_check_data:\n",
    "                test_loss, test_acc = self.evaluate(addition_check_data[\"x\"], addition_check_data[\"y\"])\n",
    "                evaluate_dict |= {\"test_loss\": test_loss,\"test_acc\": test_acc}\n",
    "                \n",
    "            print(f\"epoch {epoch}: {evaluate_dict}\")\n",
    "\n",
    "        if save_folder is not None:\n",
    "            path = Path(save_folder)\n",
    "            path.mkdir(parents=True, exist_ok=True)\n",
    "\n",
    "            df_log = pd.DataFrame(loss_log)\n",
    "            df_log.to_csv(path.joinpath(\"loss_acc.csv\"), index=False)\n",
    "\n",
    "            plt.figure(figsize=(8, 6))\n",
    "            plt.plot(df_log.index, df_log[\"training_loss\"], marker=\"o\", label=\"Training Loss\")\n",
    "            \n",
    "            if addition_check_data:\n",
    "                plt.plot(df_log.index, df_log[\"test_loss\"], marker=\"x\", label=\"Test Loss\")\n",
    "\n",
    "            # Labeling the plot\n",
    "            plt.xlabel(\"Index\")\n",
    "            plt.ylabel(\"Loss\")\n",
    "            plt.title(\"Loss vs. Index\")\n",
    "            plt.legend()\n",
    "            plt.savefig(path / \"loss.png\")\n",
    "\n",
    "            plt.clf()\n",
    "            \n",
    "            plt.figure(figsize=(8, 6))\n",
    "            plt.plot(df_log.index, df_log[\"training_acc\"], marker=\"o\", label=\"Training Acc\")\n",
    "            \n",
    "            if addition_check_data:\n",
    "                plt.plot(df_log.index, df_log[\"test_acc\"], marker=\"x\", label=\"Test Acc\")\n",
    "            \n",
    "\n",
    "            # Labeling the plot\n",
    "            plt.xlabel(\"Index\")\n",
    "            plt.ylabel(\"Acc\")\n",
    "            plt.title(\"Acc vs. Index\")\n",
    "            plt.legend()\n",
    "            plt.savefig(path / \"acc.png\")\n",
    "            \n",
    "            print(f\"save to {path}\")\n",
    "\n",
    "        return\n",
    "\n",
    "    @classmethod\n",
    "    def lazy_build(\n",
    "        cls,\n",
    "        input_dim: int,\n",
    "        output_dim: int,\n",
    "        calculate_layers: int,\n",
    "        activate_func: str,\n",
    "        up_dim: int,\n",
    "        loss_func: str = \"sse\",\n",
    "    ):\n",
    "\n",
    "        lazy_config = (\n",
    "            [Layer(input_node=input_dim, output_node=up_dim, activate=activate_func)]\n",
    "            + [\n",
    "                Layer(input_node=up_dim, output_node=up_dim, activate=activate_func)\n",
    "                for _ in range(calculate_layers - 2)\n",
    "            ]\n",
    "            + [Layer(input_node=up_dim, output_node=output_dim, activate=activate_func)]\n",
    "        )\n",
    "\n",
    "        return cls(lazy_config, loss_func)"
   ]
  },
  {
   "cell_type": "code",
   "execution_count": 8,
   "metadata": {},
   "outputs": [],
   "source": [
    "class Fnn(DNN):\n",
    "    def __init__(self, layers_config: list[Layer | ModelLayer], loss_func: str = \"sse\"):\n",
    "        super().__init__(layers_config, loss_func)\n",
    "        return\n",
    "    \n",
    "    @staticmethod\n",
    "    def load_weights(path: str, loss_func: str = \"crossentropy\", activation:str | list[str] | None = None, dtype=np.float64):\n",
    "        model_weight = np.load(path, allow_pickle=True)\n",
    "        \n",
    "        model_dict = {\n",
    "            key : model_weight.item()[key] \n",
    "            for key in model_weight.item()\n",
    "        }\n",
    "        \n",
    "        activation = activation if activation else [\"relu\"] * 3\n",
    "        \n",
    "        if isinstance(activation, str):\n",
    "            activation = [activation] * 3\n",
    "        \n",
    "        layers_config = [\n",
    "            ModelLayer.load_weights(\n",
    "                w=model_dict[f\"w{i}\"].T.astype(dtype),\n",
    "                b=model_dict[f\"b{i}\"].astype(dtype),\n",
    "                activate_str=activation[i-1],\n",
    "            )\n",
    "            for i in range(1, 4)\n",
    "        ]\n",
    "        \n",
    "        \n",
    "        return Fnn(layers_config, loss_func)\n",
    "        "
   ]
  },
  {
   "cell_type": "code",
   "execution_count": 9,
   "metadata": {},
   "outputs": [],
   "source": [
    "model = Fnn.load_weights(\n",
    "    './weights.npy',\n",
    "    activation=[\n",
    "        \"relu\",\n",
    "        \"relu\",\n",
    "        \"softmax\"\n",
    "    ],\n",
    "    dtype=np.float32\n",
    ")"
   ]
  },
  {
   "cell_type": "code",
   "execution_count": 10,
   "metadata": {},
   "outputs": [
    {
     "name": "stdout",
     "output_type": "stream",
     "text": [
      "{'hidden_layers': {1: w: (2048, 784), b: (2048, 1), activate: relu,\n",
      "                   2: w: (512, 2048), b: (512, 1), activate: relu,\n",
      "                   3: w: (10, 512), b: (10, 1), activate: softmax},\n",
      " 'input_dim': 784,\n",
      " 'loss_func': 'crossentropy',\n",
      " 'output_dim': 10}\n"
     ]
    }
   ],
   "source": [
    "print(model)"
   ]
  },
  {
   "cell_type": "code",
   "execution_count": 11,
   "metadata": {},
   "outputs": [],
   "source": [
    "DATA_FOLDER = Path(\"./fashion\")"
   ]
  },
  {
   "cell_type": "code",
   "execution_count": 12,
   "metadata": {},
   "outputs": [],
   "source": [
    "dataset = {\n",
    "    key : (np.load(DATA_FOLDER / f\"{key}_x.npy\"), np.load(DATA_FOLDER / f\"{key}_y.npy\"))\n",
    "    for key in [\"train\", \"test\"]\n",
    "}"
   ]
  },
  {
   "cell_type": "code",
   "execution_count": 13,
   "metadata": {},
   "outputs": [
    {
     "data": {
      "text/plain": [
       "((60000, 28, 28), (60000,))"
      ]
     },
     "execution_count": 13,
     "metadata": {},
     "output_type": "execute_result"
    }
   ],
   "source": [
    "dataset[\"train\"][0].shape, dataset[\"train\"][1].shape"
   ]
  },
  {
   "cell_type": "code",
   "execution_count": 14,
   "metadata": {},
   "outputs": [],
   "source": [
    "# Reshape the training data from (60000, 28, 28) to (60000, 784)\n",
    "x_train = dataset[\"train\"][0].reshape(dataset[\"train\"][0].shape[0], -1).astype(np.float32)\n",
    "y_train = dataset[\"train\"][1].reshape(dataset[\"train\"][1].shape[0], -1).astype(np.float32)\n",
    "\n",
    "x_test = dataset[\"test\"][0].reshape(dataset[\"test\"][0].shape[0], -1).astype(np.float32)\n",
    "y_test = dataset[\"test\"][1].reshape(dataset[\"test\"][1].shape[0], -1).astype(np.float32)"
   ]
  },
  {
   "cell_type": "code",
   "execution_count": 15,
   "metadata": {},
   "outputs": [
    {
     "name": "stdout",
     "output_type": "stream",
     "text": [
      "X_train shape: (60000, 784)\n",
      "y_train shape: (60000, 1)\n",
      "X_test shape: (10000, 784)\n",
      "y_test shape: (10000, 1)\n"
     ]
    }
   ],
   "source": [
    "print(f\"X_train shape: {x_train.shape}\")\n",
    "print(f\"y_train shape: {y_train.shape}\")\n",
    "\n",
    "print(f\"X_test shape: {x_test.shape}\")\n",
    "print(f\"y_test shape: {y_test.shape}\")"
   ]
  },
  {
   "cell_type": "code",
   "execution_count": 16,
   "metadata": {},
   "outputs": [],
   "source": [
    "x_train = x_train / 255.0\n",
    "x_test = x_test / 255.0"
   ]
  },
  {
   "cell_type": "code",
   "execution_count": 17,
   "metadata": {},
   "outputs": [
    {
     "name": "stdout",
     "output_type": "stream",
     "text": [
      "y_train one-hot encoded shape: (60000, 10)\n",
      "y_test one-hot encoded shape: (10000, 10)\n"
     ]
    }
   ],
   "source": [
    "# Define the number of classes (assuming digit labels 0-9)\n",
    "num_classes = 10\n",
    "\n",
    "# One-hot encode y_train and y_test\n",
    "y_train = np.eye(num_classes)[y_train.astype(np.int32).reshape(-1)].astype(np.float32)\n",
    "y_test = np.eye(num_classes)[y_test.astype(np.int32).reshape(-1)].astype(np.float32)\n",
    "\n",
    "print(\"y_train one-hot encoded shape:\", y_train.shape)\n",
    "print(\"y_test one-hot encoded shape:\", y_test.shape)"
   ]
  },
  {
   "cell_type": "markdown",
   "metadata": {},
   "source": [
    "## Question 1 "
   ]
  },
  {
   "cell_type": "code",
   "execution_count": 18,
   "metadata": {},
   "outputs": [],
   "source": [
    "base_train_conf = {\n",
    "    \"x\": x_train,\n",
    "    \"y\": y_train,\n",
    "    \"epochs\": 30,\n",
    "    \"batch_size\": 200,\n",
    "    \"learning_rate\": 0.005,\n",
    "    # \"save_folder\": \"./fashion\",\n",
    "}"
   ]
  },
  {
   "cell_type": "code",
   "execution_count": 19,
   "metadata": {},
   "outputs": [],
   "source": [
    "config = base_train_conf | {\"open_shuffle\": False, \"save_folder\": \"./fashion_logs\"}"
   ]
  },
  {
   "cell_type": "code",
   "execution_count": 20,
   "metadata": {},
   "outputs": [
    {
     "name": "stderr",
     "output_type": "stream",
     "text": [
      "epoch 0: 100%|██████████| 300/300 [00:13<00:00, 22.54it/s]\n"
     ]
    },
    {
     "name": "stdout",
     "output_type": "stream",
     "text": [
      "epoch 0, loss 318568.84375, acc 0.7656333333333334\n"
     ]
    },
    {
     "name": "stderr",
     "output_type": "stream",
     "text": [
      "epoch 1: 100%|██████████| 300/300 [00:12<00:00, 23.23it/s]\n"
     ]
    },
    {
     "name": "stdout",
     "output_type": "stream",
     "text": [
      "epoch 1, loss 222663.171875, acc 0.7307833333333333\n"
     ]
    },
    {
     "name": "stderr",
     "output_type": "stream",
     "text": [
      "epoch 2: 100%|██████████| 300/300 [00:12<00:00, 23.67it/s]\n"
     ]
    },
    {
     "name": "stdout",
     "output_type": "stream",
     "text": [
      "epoch 2, loss 160208.625, acc 0.7367333333333334\n"
     ]
    },
    {
     "name": "stderr",
     "output_type": "stream",
     "text": [
      "epoch 3: 100%|██████████| 300/300 [00:12<00:00, 23.61it/s]\n"
     ]
    },
    {
     "name": "stdout",
     "output_type": "stream",
     "text": [
      "epoch 3, loss 134230.25, acc 0.7375166666666667\n"
     ]
    },
    {
     "name": "stderr",
     "output_type": "stream",
     "text": [
      "epoch 4: 100%|██████████| 300/300 [00:12<00:00, 23.58it/s]\n"
     ]
    },
    {
     "name": "stdout",
     "output_type": "stream",
     "text": [
      "epoch 4, loss 118643.65625, acc 0.7409166666666667\n"
     ]
    },
    {
     "name": "stderr",
     "output_type": "stream",
     "text": [
      "epoch 5: 100%|██████████| 300/300 [00:12<00:00, 23.47it/s]\n"
     ]
    },
    {
     "name": "stdout",
     "output_type": "stream",
     "text": [
      "epoch 5, loss 105311.1796875, acc 0.7486666666666667\n"
     ]
    },
    {
     "name": "stderr",
     "output_type": "stream",
     "text": [
      "epoch 6: 100%|██████████| 300/300 [00:12<00:00, 23.67it/s]\n"
     ]
    },
    {
     "name": "stdout",
     "output_type": "stream",
     "text": [
      "epoch 6, loss 95581.7421875, acc 0.7522333333333333\n"
     ]
    },
    {
     "name": "stderr",
     "output_type": "stream",
     "text": [
      "epoch 7: 100%|██████████| 300/300 [00:12<00:00, 23.75it/s]\n"
     ]
    },
    {
     "name": "stdout",
     "output_type": "stream",
     "text": [
      "epoch 7, loss 87910.265625, acc 0.7534\n"
     ]
    },
    {
     "name": "stderr",
     "output_type": "stream",
     "text": [
      "epoch 8: 100%|██████████| 300/300 [00:12<00:00, 23.74it/s]\n"
     ]
    },
    {
     "name": "stdout",
     "output_type": "stream",
     "text": [
      "epoch 8, loss 81798.1171875, acc 0.7566833333333334\n"
     ]
    },
    {
     "name": "stderr",
     "output_type": "stream",
     "text": [
      "epoch 9: 100%|██████████| 300/300 [00:12<00:00, 23.62it/s]\n"
     ]
    },
    {
     "name": "stdout",
     "output_type": "stream",
     "text": [
      "epoch 9, loss 76720.1640625, acc 0.7616\n"
     ]
    },
    {
     "name": "stderr",
     "output_type": "stream",
     "text": [
      "epoch 10: 100%|██████████| 300/300 [00:12<00:00, 23.82it/s]\n"
     ]
    },
    {
     "name": "stdout",
     "output_type": "stream",
     "text": [
      "epoch 10, loss 72145.953125, acc 0.7673333333333333\n"
     ]
    },
    {
     "name": "stderr",
     "output_type": "stream",
     "text": [
      "epoch 11: 100%|██████████| 300/300 [00:12<00:00, 23.62it/s]\n"
     ]
    },
    {
     "name": "stdout",
     "output_type": "stream",
     "text": [
      "epoch 11, loss 68619.9453125, acc 0.77255\n"
     ]
    },
    {
     "name": "stderr",
     "output_type": "stream",
     "text": [
      "epoch 12: 100%|██████████| 300/300 [00:12<00:00, 23.36it/s]\n"
     ]
    },
    {
     "name": "stdout",
     "output_type": "stream",
     "text": [
      "epoch 12, loss 65160.90234375, acc 0.7752833333333333\n"
     ]
    },
    {
     "name": "stderr",
     "output_type": "stream",
     "text": [
      "epoch 13: 100%|██████████| 300/300 [00:12<00:00, 23.78it/s]\n"
     ]
    },
    {
     "name": "stdout",
     "output_type": "stream",
     "text": [
      "epoch 13, loss 62188.359375, acc 0.77975\n"
     ]
    },
    {
     "name": "stderr",
     "output_type": "stream",
     "text": [
      "epoch 14: 100%|██████████| 300/300 [00:12<00:00, 23.73it/s]\n"
     ]
    },
    {
     "name": "stdout",
     "output_type": "stream",
     "text": [
      "epoch 14, loss 59773.08984375, acc 0.7836666666666666\n"
     ]
    },
    {
     "name": "stderr",
     "output_type": "stream",
     "text": [
      "epoch 15: 100%|██████████| 300/300 [00:12<00:00, 23.14it/s]\n"
     ]
    },
    {
     "name": "stdout",
     "output_type": "stream",
     "text": [
      "epoch 15, loss 57588.54296875, acc 0.78605\n"
     ]
    },
    {
     "name": "stderr",
     "output_type": "stream",
     "text": [
      "epoch 16: 100%|██████████| 300/300 [00:12<00:00, 23.67it/s]\n"
     ]
    },
    {
     "name": "stdout",
     "output_type": "stream",
     "text": [
      "epoch 16, loss 55296.546875, acc 0.7893833333333333\n"
     ]
    },
    {
     "name": "stderr",
     "output_type": "stream",
     "text": [
      "epoch 17: 100%|██████████| 300/300 [00:12<00:00, 23.84it/s]\n"
     ]
    },
    {
     "name": "stdout",
     "output_type": "stream",
     "text": [
      "epoch 17, loss 53533.96484375, acc 0.79205\n"
     ]
    },
    {
     "name": "stderr",
     "output_type": "stream",
     "text": [
      "epoch 18: 100%|██████████| 300/300 [00:12<00:00, 23.83it/s]\n"
     ]
    },
    {
     "name": "stdout",
     "output_type": "stream",
     "text": [
      "epoch 18, loss 51627.7109375, acc 0.7946666666666666\n"
     ]
    },
    {
     "name": "stderr",
     "output_type": "stream",
     "text": [
      "epoch 19: 100%|██████████| 300/300 [00:12<00:00, 23.83it/s]\n"
     ]
    },
    {
     "name": "stdout",
     "output_type": "stream",
     "text": [
      "epoch 19, loss 49948.66015625, acc 0.7971666666666667\n"
     ]
    },
    {
     "name": "stderr",
     "output_type": "stream",
     "text": [
      "epoch 20: 100%|██████████| 300/300 [00:12<00:00, 23.45it/s]\n"
     ]
    },
    {
     "name": "stdout",
     "output_type": "stream",
     "text": [
      "epoch 20, loss 48576.95703125, acc 0.7987333333333333\n"
     ]
    },
    {
     "name": "stderr",
     "output_type": "stream",
     "text": [
      "epoch 21: 100%|██████████| 300/300 [00:12<00:00, 23.20it/s]\n"
     ]
    },
    {
     "name": "stdout",
     "output_type": "stream",
     "text": [
      "epoch 21, loss 46945.78515625, acc 0.8009166666666667\n"
     ]
    },
    {
     "name": "stderr",
     "output_type": "stream",
     "text": [
      "epoch 22: 100%|██████████| 300/300 [00:12<00:00, 23.87it/s]\n"
     ]
    },
    {
     "name": "stdout",
     "output_type": "stream",
     "text": [
      "epoch 22, loss 45718.2578125, acc 0.8026666666666666\n"
     ]
    },
    {
     "name": "stderr",
     "output_type": "stream",
     "text": [
      "epoch 23: 100%|██████████| 300/300 [00:12<00:00, 24.00it/s]\n"
     ]
    },
    {
     "name": "stdout",
     "output_type": "stream",
     "text": [
      "epoch 23, loss 44621.8046875, acc 0.8043833333333333\n"
     ]
    },
    {
     "name": "stderr",
     "output_type": "stream",
     "text": [
      "epoch 24: 100%|██████████| 300/300 [00:12<00:00, 24.06it/s]\n"
     ]
    },
    {
     "name": "stdout",
     "output_type": "stream",
     "text": [
      "epoch 24, loss 43437.55859375, acc 0.8062833333333334\n"
     ]
    },
    {
     "name": "stderr",
     "output_type": "stream",
     "text": [
      "epoch 25: 100%|██████████| 300/300 [00:12<00:00, 24.02it/s]\n"
     ]
    },
    {
     "name": "stdout",
     "output_type": "stream",
     "text": [
      "epoch 25, loss 42463.75390625, acc 0.8077666666666666\n"
     ]
    },
    {
     "name": "stderr",
     "output_type": "stream",
     "text": [
      "epoch 26: 100%|██████████| 300/300 [00:12<00:00, 23.89it/s]\n"
     ]
    },
    {
     "name": "stdout",
     "output_type": "stream",
     "text": [
      "epoch 26, loss 41401.17578125, acc 0.8103666666666667\n"
     ]
    },
    {
     "name": "stderr",
     "output_type": "stream",
     "text": [
      "epoch 27: 100%|██████████| 300/300 [00:12<00:00, 24.04it/s]\n"
     ]
    },
    {
     "name": "stdout",
     "output_type": "stream",
     "text": [
      "epoch 27, loss 40532.4765625, acc 0.8117833333333333\n"
     ]
    },
    {
     "name": "stderr",
     "output_type": "stream",
     "text": [
      "epoch 28: 100%|██████████| 300/300 [00:12<00:00, 23.42it/s]\n"
     ]
    },
    {
     "name": "stdout",
     "output_type": "stream",
     "text": [
      "epoch 28, loss 39583.8671875, acc 0.8134166666666667\n"
     ]
    },
    {
     "name": "stderr",
     "output_type": "stream",
     "text": [
      "epoch 29: 100%|██████████| 300/300 [00:12<00:00, 23.78it/s]\n"
     ]
    },
    {
     "name": "stdout",
     "output_type": "stream",
     "text": [
      "epoch 29, loss 38791.8515625, acc 0.8146166666666667\n",
      "save to fashion_logs\n"
     ]
    },
    {
     "data": {
      "text/plain": [
       "<Figure size 800x600 with 0 Axes>"
      ]
     },
     "metadata": {},
     "output_type": "display_data"
    },
    {
     "data": {
      "image/png": "[encoded data removed]",
      "text/plain": [
       "<Figure size 800x600 with 1 Axes>"
      ]
     },
     "metadata": {},
     "output_type": "display_data"
    }
   ],
   "source": [
    "model.train(**config)"
   ]
  },
  {
   "cell_type": "code",
   "execution_count": 25,
   "metadata": {},
   "outputs": [],
   "source": [
    "model_zero = DNN(\n",
    "    layers_config=[\n",
    "        Layer(input_node=784, output_node=2048, activate=\"relu\", zero=True),\n",
    "        Layer(input_node=2048, output_node=512, activate=\"relu\", zero=True),\n",
    "        Layer(input_node=512, output_node=10, activate=\"softmax\", zero=True),  # Assuming binary classification\n",
    "    ],\n",
    "    loss_func=\"crossentropy\",\n",
    ")"
   ]
  },
  {
   "cell_type": "code",
   "execution_count": 26,
   "metadata": {},
   "outputs": [
    {
     "name": "stdout",
     "output_type": "stream",
     "text": [
      "{'hidden_layers': {1: w: (2048, 784), b: (2048, 1), activate: relu,\n",
      "                   2: w: (512, 2048), b: (512, 1), activate: relu,\n",
      "                   3: w: (10, 512), b: (10, 1), activate: softmax},\n",
      " 'input_dim': 784,\n",
      " 'loss_func': 'crossentropy',\n",
      " 'output_dim': 10}\n"
     ]
    }
   ],
   "source": [
    "print(model_zero)"
   ]
  },
  {
   "cell_type": "code",
   "execution_count": 27,
   "metadata": {},
   "outputs": [],
   "source": [
    "config = base_train_conf | {\"open_shuffle\": False, \"save_folder\": \"./fashion_zero_logs\"}"
   ]
  },
  {
   "cell_type": "code",
   "execution_count": 28,
   "metadata": {},
   "outputs": [
    {
     "name": "stderr",
     "output_type": "stream",
     "text": [
      "epoch 0: 100%|██████████| 300/300 [00:09<00:00, 32.52it/s]\n"
     ]
    },
    {
     "name": "stdout",
     "output_type": "stream",
     "text": [
      "epoch 0, loss 138155.10576878325, acc 0.1\n"
     ]
    },
    {
     "name": "stderr",
     "output_type": "stream",
     "text": [
      "epoch 1: 100%|██████████| 300/300 [00:09<00:00, 32.91it/s]\n"
     ]
    },
    {
     "name": "stdout",
     "output_type": "stream",
     "text": [
      "epoch 1, loss 138155.1062344578, acc 0.1\n"
     ]
    },
    {
     "name": "stderr",
     "output_type": "stream",
     "text": [
      "epoch 2: 100%|██████████| 300/300 [00:09<00:00, 31.89it/s]\n"
     ]
    },
    {
     "name": "stdout",
     "output_type": "stream",
     "text": [
      "epoch 2, loss 138155.1068596073, acc 0.1\n"
     ]
    },
    {
     "name": "stderr",
     "output_type": "stream",
     "text": [
      "epoch 3: 100%|██████████| 300/300 [00:09<00:00, 32.68it/s]\n"
     ]
    },
    {
     "name": "stdout",
     "output_type": "stream",
     "text": [
      "epoch 3, loss 138155.1075638445, acc 0.1\n"
     ]
    },
    {
     "name": "stderr",
     "output_type": "stream",
     "text": [
      "epoch 4: 100%|██████████| 300/300 [00:09<00:00, 32.83it/s]\n"
     ]
    },
    {
     "name": "stdout",
     "output_type": "stream",
     "text": [
      "epoch 4, loss 138155.1082930643, acc 0.1\n"
     ]
    },
    {
     "name": "stderr",
     "output_type": "stream",
     "text": [
      "epoch 5: 100%|██████████| 300/300 [00:09<00:00, 32.91it/s]\n"
     ]
    },
    {
     "name": "stdout",
     "output_type": "stream",
     "text": [
      "epoch 5, loss 138155.10901187087, acc 0.1\n"
     ]
    },
    {
     "name": "stderr",
     "output_type": "stream",
     "text": [
      "epoch 6: 100%|██████████| 300/300 [00:09<00:00, 33.01it/s]\n"
     ]
    },
    {
     "name": "stdout",
     "output_type": "stream",
     "text": [
      "epoch 6, loss 138155.1096980745, acc 0.1\n"
     ]
    },
    {
     "name": "stderr",
     "output_type": "stream",
     "text": [
      "epoch 7: 100%|██████████| 300/300 [00:09<00:00, 32.90it/s]\n"
     ]
    },
    {
     "name": "stdout",
     "output_type": "stream",
     "text": [
      "epoch 7, loss 138155.1103387065, acc 0.1\n"
     ]
    },
    {
     "name": "stderr",
     "output_type": "stream",
     "text": [
      "epoch 8: 100%|██████████| 300/300 [00:09<00:00, 32.76it/s]\n"
     ]
    },
    {
     "name": "stdout",
     "output_type": "stream",
     "text": [
      "epoch 8, loss 138155.11092714485, acc 0.1\n"
     ]
    },
    {
     "name": "stderr",
     "output_type": "stream",
     "text": [
      "epoch 9: 100%|██████████| 300/300 [00:09<00:00, 32.86it/s]\n"
     ]
    },
    {
     "name": "stdout",
     "output_type": "stream",
     "text": [
      "epoch 9, loss 138155.1114610529, acc 0.1\n"
     ]
    },
    {
     "name": "stderr",
     "output_type": "stream",
     "text": [
      "epoch 10: 100%|██████████| 300/300 [00:09<00:00, 32.04it/s]\n"
     ]
    },
    {
     "name": "stdout",
     "output_type": "stream",
     "text": [
      "epoch 10, loss 138155.11194091095, acc 0.1\n"
     ]
    },
    {
     "name": "stderr",
     "output_type": "stream",
     "text": [
      "epoch 11: 100%|██████████| 300/300 [00:09<00:00, 33.11it/s]\n"
     ]
    },
    {
     "name": "stdout",
     "output_type": "stream",
     "text": [
      "epoch 11, loss 138155.11236897722, acc 0.1\n"
     ]
    },
    {
     "name": "stderr",
     "output_type": "stream",
     "text": [
      "epoch 12: 100%|██████████| 300/300 [00:09<00:00, 32.97it/s]\n"
     ]
    },
    {
     "name": "stdout",
     "output_type": "stream",
     "text": [
      "epoch 12, loss 138155.11274856233, acc 0.1\n"
     ]
    },
    {
     "name": "stderr",
     "output_type": "stream",
     "text": [
      "epoch 13: 100%|██████████| 300/300 [00:09<00:00, 32.99it/s]\n"
     ]
    },
    {
     "name": "stdout",
     "output_type": "stream",
     "text": [
      "epoch 13, loss 138155.11308352795, acc 0.1\n"
     ]
    },
    {
     "name": "stderr",
     "output_type": "stream",
     "text": [
      "epoch 14: 100%|██████████| 300/300 [00:09<00:00, 33.01it/s]\n"
     ]
    },
    {
     "name": "stdout",
     "output_type": "stream",
     "text": [
      "epoch 14, loss 138155.11337794774, acc 0.1\n"
     ]
    },
    {
     "name": "stderr",
     "output_type": "stream",
     "text": [
      "epoch 15: 100%|██████████| 300/300 [00:09<00:00, 32.95it/s]\n"
     ]
    },
    {
     "name": "stdout",
     "output_type": "stream",
     "text": [
      "epoch 15, loss 138155.11363588346, acc 0.1\n"
     ]
    },
    {
     "name": "stderr",
     "output_type": "stream",
     "text": [
      "epoch 16: 100%|██████████| 300/300 [00:09<00:00, 33.07it/s]\n"
     ]
    },
    {
     "name": "stdout",
     "output_type": "stream",
     "text": [
      "epoch 16, loss 138155.11386124237, acc 0.1\n"
     ]
    },
    {
     "name": "stderr",
     "output_type": "stream",
     "text": [
      "epoch 17: 100%|██████████| 300/300 [00:09<00:00, 32.80it/s]\n"
     ]
    },
    {
     "name": "stdout",
     "output_type": "stream",
     "text": [
      "epoch 17, loss 138155.114057692, acc 0.1\n"
     ]
    },
    {
     "name": "stderr",
     "output_type": "stream",
     "text": [
      "epoch 18: 100%|██████████| 300/300 [00:09<00:00, 32.02it/s]\n"
     ]
    },
    {
     "name": "stdout",
     "output_type": "stream",
     "text": [
      "epoch 18, loss 138155.1142286152, acc 0.1\n"
     ]
    },
    {
     "name": "stderr",
     "output_type": "stream",
     "text": [
      "epoch 19: 100%|██████████| 300/300 [00:09<00:00, 33.02it/s]\n"
     ]
    },
    {
     "name": "stdout",
     "output_type": "stream",
     "text": [
      "epoch 19, loss 138155.1143770903, acc 0.1\n"
     ]
    },
    {
     "name": "stderr",
     "output_type": "stream",
     "text": [
      "epoch 20: 100%|██████████| 300/300 [00:09<00:00, 33.00it/s]\n"
     ]
    },
    {
     "name": "stdout",
     "output_type": "stream",
     "text": [
      "epoch 20, loss 138155.11450589084, acc 0.1\n"
     ]
    },
    {
     "name": "stderr",
     "output_type": "stream",
     "text": [
      "epoch 21: 100%|██████████| 300/300 [00:09<00:00, 32.70it/s]\n"
     ]
    },
    {
     "name": "stdout",
     "output_type": "stream",
     "text": [
      "epoch 21, loss 138155.11461749577, acc 0.1\n"
     ]
    },
    {
     "name": "stderr",
     "output_type": "stream",
     "text": [
      "epoch 22: 100%|██████████| 300/300 [00:09<00:00, 33.05it/s]\n"
     ]
    },
    {
     "name": "stdout",
     "output_type": "stream",
     "text": [
      "epoch 22, loss 138155.1147141065, acc 0.1\n"
     ]
    },
    {
     "name": "stderr",
     "output_type": "stream",
     "text": [
      "epoch 23: 100%|██████████| 300/300 [00:09<00:00, 33.01it/s]\n"
     ]
    },
    {
     "name": "stdout",
     "output_type": "stream",
     "text": [
      "epoch 23, loss 138155.11479766815, acc 0.1\n"
     ]
    },
    {
     "name": "stderr",
     "output_type": "stream",
     "text": [
      "epoch 24: 100%|██████████| 300/300 [00:09<00:00, 32.91it/s]\n"
     ]
    },
    {
     "name": "stdout",
     "output_type": "stream",
     "text": [
      "epoch 24, loss 138155.11486989236, acc 0.1\n"
     ]
    },
    {
     "name": "stderr",
     "output_type": "stream",
     "text": [
      "epoch 25: 100%|██████████| 300/300 [00:09<00:00, 32.94it/s]\n"
     ]
    },
    {
     "name": "stdout",
     "output_type": "stream",
     "text": [
      "epoch 25, loss 138155.11493227954, acc 0.1\n"
     ]
    },
    {
     "name": "stderr",
     "output_type": "stream",
     "text": [
      "epoch 26: 100%|██████████| 300/300 [00:09<00:00, 32.75it/s]\n"
     ]
    },
    {
     "name": "stdout",
     "output_type": "stream",
     "text": [
      "epoch 26, loss 138155.11498614185, acc 0.1\n"
     ]
    },
    {
     "name": "stderr",
     "output_type": "stream",
     "text": [
      "epoch 27: 100%|██████████| 300/300 [00:09<00:00, 32.26it/s]\n"
     ]
    },
    {
     "name": "stdout",
     "output_type": "stream",
     "text": [
      "epoch 27, loss 138155.11503262364, acc 0.1\n"
     ]
    },
    {
     "name": "stderr",
     "output_type": "stream",
     "text": [
      "epoch 28: 100%|██████████| 300/300 [00:09<00:00, 32.97it/s]\n"
     ]
    },
    {
     "name": "stdout",
     "output_type": "stream",
     "text": [
      "epoch 28, loss 138155.11507272112, acc 0.1\n"
     ]
    },
    {
     "name": "stderr",
     "output_type": "stream",
     "text": [
      "epoch 29: 100%|██████████| 300/300 [00:09<00:00, 33.02it/s]\n"
     ]
    },
    {
     "name": "stdout",
     "output_type": "stream",
     "text": [
      "epoch 29, loss 138155.11510730002, acc 0.1\n",
      "save to fashion_zero_logs\n"
     ]
    },
    {
     "data": {
      "text/plain": [
       "<Figure size 800x600 with 0 Axes>"
      ]
     },
     "metadata": {},
     "output_type": "display_data"
    },
    {
     "data": {
      "image/png": "[encoded data removed]",
      "text/plain": [
       "<Figure size 800x600 with 1 Axes>"
      ]
     },
     "metadata": {},
     "output_type": "display_data"
    }
   ],
   "source": [
    "model_zero.train(**config)"
   ]
  },
  {
   "cell_type": "markdown",
   "metadata": {},
   "source": [
    "### 1.a\n"
   ]
  },
  {
   "cell_type": "markdown",
   "metadata": {},
   "source": [
    "### 1.b"
   ]
  },
  {
   "cell_type": "markdown",
   "metadata": {},
   "source": [
    "## Question 2"
   ]
  },
  {
   "cell_type": "markdown",
   "metadata": {},
   "source": [
    "### 2.a\n"
   ]
  },
  {
   "cell_type": "markdown",
   "metadata": {},
   "source": [
    "### 2.b"
   ]
  },
  {
   "cell_type": "markdown",
   "metadata": {},
   "source": [
    "## Question 3"
   ]
  },
  {
   "cell_type": "markdown",
   "metadata": {},
   "source": [
    "### 3.a"
   ]
  },
  {
   "cell_type": "markdown",
   "metadata": {},
   "source": [
    "### 3.b"
   ]
  },
  {
   "cell_type": "markdown",
   "metadata": {},
   "source": [
    "## Part 2"
   ]
  },
  {
   "cell_type": "code",
   "execution_count": null,
   "metadata": {},
   "outputs": [],
   "source": []
  }
 ],
 "metadata": {
  "kernelspec": {
   "display_name": "DL",
   "language": "python",
   "name": "python3"
  },
  "language_info": {
   "codemirror_mode": {
    "name": "ipython",
    "version": 3
   },
   "file_extension": ".py",
   "mimetype": "text/x-python",
   "name": "python",
   "nbconvert_exporter": "python",
   "pygments_lexer": "ipython3",
   "version": "3.12.9"
  }
 },
 "nbformat": 4,
 "nbformat_minor": 2
}
