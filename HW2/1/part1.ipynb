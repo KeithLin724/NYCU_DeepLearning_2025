{
 "cells": [
  {
   "cell_type": "code",
   "execution_count": 1,
   "id": "f5f2d7a9",
   "metadata": {},
   "outputs": [],
   "source": [
    "import json\n",
    "import pandas as pd\n",
    "from pathlib import Path\n",
    "from dataclasses import dataclass, asdict\n",
    "# https://medium.com/willhanchen/%E8%87%AA%E7%84%B6%E8%AA%9E%E8%A8%80%E8%99%95%E7%90%86-spacy-%E5%88%9D%E6%8E%A2%E5%BC%B7%E5%A4%A7%E7%9A%84%E5%B7%A5%E5%85%B7%E5%BA%ABspacy-%E8%AE%93%E6%A9%9F%E5%99%A8%E8%AE%80%E6%87%82%E6%88%91%E5%80%91%E7%9A%84%E8%AA%9E%E8%A8%80%E5%90%A7-4a35daa895d0\n",
    "import spacy\n",
    "from spacy.cli import download\n",
    "import nltk\n",
    "from nltk.corpus import stopwords\n",
    "import string\n",
    "import re\n",
    "\n",
    "import gensim\n",
    "from gensim.models import FastText, word2vec, Word2Vec\n",
    "from gensim.utils import tokenize\n",
    "import numpy as np\n",
    "from tqdm import tqdm\n",
    "\n",
    "\n",
    "# for model\n",
    "import torch\n",
    "import torch.nn as nn\n",
    "import lightning as L\n",
    "from lightning.pytorch.callbacks import ModelCheckpoint, EarlyStopping\n",
    "from lightning.pytorch.loggers import CSVLogger\n",
    "import math\n",
    "from natsort import natsorted\n",
    "\n",
    "from torch.utils.data import DataLoader, Dataset\n",
    "from torch.utils.data import random_split   \n",
    "from torch.nn.utils.rnn import pad_sequence\n",
    "import torch.optim as optim\n",
    "from torch.optim.lr_scheduler import CosineAnnealingLR\n",
    "\n",
    "from concurrent.futures import ThreadPoolExecutor, as_completed\n",
    "from typing import Callable"
   ]
  },
  {
   "cell_type": "code",
   "execution_count": 2,
   "id": "dd27de1e",
   "metadata": {},
   "outputs": [],
   "source": [
    "torch.set_float32_matmul_precision('high')"
   ]
  },
  {
   "cell_type": "code",
   "execution_count": 3,
   "id": "638b28b7",
   "metadata": {},
   "outputs": [],
   "source": [
    "BUILD_TEXT_DATA = False \n",
    "LOAD_TEXT_DATA = True\n",
    "TRAIN_EMBEDDING = False\n",
    "LOAD_EMBEDDING = True"
   ]
  },
  {
   "cell_type": "code",
   "execution_count": 4,
   "id": "a6d15db6",
   "metadata": {},
   "outputs": [],
   "source": [
    "# PATH config\n",
    "ALL_OUTPUT_PATH = \"./\""
   ]
  },
  {
   "cell_type": "markdown",
   "id": "1157b98e",
   "metadata": {},
   "source": [
    "## Text"
   ]
  },
  {
   "cell_type": "code",
   "execution_count": 5,
   "id": "d8adc429",
   "metadata": {},
   "outputs": [],
   "source": [
    "class TextData:\n",
    "    # embedding model use fasttext\n",
    "    def __init__(self, train_data:pd.DataFrame, test_data:pd.DataFrame):\n",
    "        self.train_data = train_data\n",
    "        self.test_data = test_data\n",
    "        self.embedding_model_name = None\n",
    "        \n",
    "        self.setup()\n",
    "        return \n",
    "    \n",
    "    def train_embedding_model(self, result_files:dict, model_type:str=\"skipgram\", embedding_size:int=100, model_folder_name:str=\"model\"):\n",
    "        self.embedding_model_name = model_type\n",
    "        data_folder = Path(result_files[\"folder\"])\n",
    "        file_to_train = data_folder / result_files[\"embedding_training\"]\n",
    "        \n",
    "        sentences = word2vec.LineSentence(file_to_train)\n",
    "        \n",
    "        self.model = FastText(\n",
    "            sentences,\n",
    "            vector_size=embedding_size,\n",
    "            window=5,\n",
    "            min_count=1,\n",
    "            sg=1 if model_type == \"skipgram\" else 0, # skipgram = 1, cbow = 0\n",
    "            hs=0,\n",
    "            negative=5,\n",
    "            epochs=10,\n",
    "        )\n",
    "        \n",
    "        model_folder = Path(model_folder_name)\n",
    "        model_folder.mkdir(exist_ok=True, parents=True)\n",
    "        \n",
    "        model_file_name =  f\"{model_type}_embed_{embedding_size}.model\"\n",
    "        self.model.save(str(model_folder / model_file_name))\n",
    "        \n",
    "        return {\"model_folder\": str(model_folder), \"model_file_name\":model_file_name, \"model_type\": model_type}\n",
    "    \n",
    "    def load_embedding_model(self, model_path:str):\n",
    "        self.embedding_model_name = model_path\n",
    "        self.model = FastText.load(model_path)\n",
    "        \n",
    "        return\n",
    "    \n",
    "    def setup(self):\n",
    "        # 第一次執行需要下載停用詞資源\n",
    "        nltk.download(\"stopwords\")\n",
    "        download(\"en_core_web_sm\")\n",
    "        self.nlp = spacy.load(\"en_core_web_sm\")\n",
    "        return\n",
    "    \n",
    "    def clean_text_spacy(self, text:str) -> str:\n",
    "        condition = lambda token : not token.is_stop and not token.is_punct and not token.is_digit\n",
    "        \n",
    "        doc = self.nlp(text)\n",
    "        # 篩選出非停用字、非標點符號、非數字的 token，並轉為小寫\n",
    "        tokens = [token.text.lower() for token in doc if condition(token)]\n",
    "        return \" \".join(tokens)\n",
    "    \n",
    "    def clean_text_nltk(self, text: str) -> str:\n",
    "        # 轉成小寫\n",
    "        text = text.lower()\n",
    "        # 移除數字\n",
    "        text = re.sub(r'\\d+', '', text)\n",
    "        # 移除標點符號\n",
    "        text = re.sub(r'[{}]'.format(re.escape(string.punctuation)), '', text)\n",
    "        # 移除多餘空白\n",
    "        text = text.strip()\n",
    "        # 斷詞\n",
    "        tokens = text.split()\n",
    "        # 移除停用字\n",
    "        stop_words = set(stopwords.words(\"english\"))\n",
    "        tokens = [word for word in tokens if word not in stop_words]\n",
    "        # 回傳清理後的結果\n",
    "        return \" \".join(tokens)\n",
    "    \n",
    "    def batch_process_text(self, process_funcs:list[Callable], max_workers:int=None):\n",
    "        result = []\n",
    "        with ThreadPoolExecutor(max_workers=max_workers) as executor:\n",
    "            futures = [executor.submit(process_func) for process_func in process_funcs]\n",
    "            for future in as_completed(futures):\n",
    "                result.append(future.result())\n",
    "                \n",
    "        return result\n",
    "    \n",
    "    def wrapper_function(self,id_:int, type_:int, headline_in:str, short_description_in:str, label:int, process_func:str):\n",
    "        \n",
    "        def process_it():\n",
    "            headline = process_func(headline_in)\n",
    "            short_description = process_func(short_description_in)\n",
    "            item = \"<CLS> \" + headline + \" <SEP> \" +  short_description + \" <END>\"\n",
    "            return {\"id\": id_, \"type\": type_, \"process_text\": item, \"label\": label}\n",
    "        \n",
    "        return process_it\n",
    "    \n",
    "    \n",
    "    def process_all_data(self, process:str, batch_size:int=100, max_workers:int=None):\n",
    "        process_func = self.clean_text_spacy if process == \"spacy\" else self.clean_text_nltk\n",
    "        \n",
    "        train_data_df = self.train_data[[\"id\" , \"headline\", \"short_description\", \"label\"]].copy()\n",
    "        train_data_df[\"type\"] = \"train\"\n",
    "        test_data_df = self.test_data[[\"id\" ,\"headline\", \"short_description\"]].copy()\n",
    "        test_data_df[\"type\"] = \"test\"\n",
    "        test_data_df[\"label\"] = \"IDK\"\n",
    "        \n",
    "        data_df = pd.concat([train_data_df, test_data_df], axis=0)\n",
    "        \n",
    "        \n",
    "        jobs = []\n",
    "        for _, row in tqdm(data_df.iterrows(), total=data_df.shape[0], desc=\"Build Jobs\"):\n",
    "            id_ = row[\"id\"]\n",
    "            type_ = row[\"type\"]\n",
    "            headline = row[\"headline\"]\n",
    "            short_description = row[\"short_description\"]\n",
    "            label = row[\"label\"]\n",
    "            \n",
    "            # 使用 wrapper_function 來包裝 process_func\n",
    "            job = self.wrapper_function(id_, type_, headline, short_description, label , process_func)\n",
    "            jobs.append(job)\n",
    "        \n",
    "        result = []\n",
    "        for batch in tqdm(range(0, len(jobs), batch_size), desc=\"Processing text\"):\n",
    "            batch_jobs = jobs[batch:batch + batch_size]\n",
    "            out = self.batch_process_text(batch_jobs, max_workers)\n",
    "            result.extend(out)\n",
    "        \n",
    "        \n",
    "        output_df = pd.DataFrame(result)\n",
    "        \n",
    "        folder = Path(\"temp\")\n",
    "        folder.mkdir(exist_ok=True, parents=True)\n",
    "        \n",
    "        prefix = f\"temp_{process}\"\n",
    "        \n",
    "        # to temp file for embedding\n",
    "        with open(folder / f\"{prefix}.txt\", \"w\", encoding=\"utf-8\") as f:\n",
    "            # add special tokens\n",
    "            f.write(\"<PAD> <CLS> <SEP> <END> <UNK>\\n\")\n",
    "            for text in output_df[\"process_text\"]:\n",
    "                f.write(text + \"\\n\")\n",
    "        \n",
    "        # save processed data\n",
    "        output_df.to_csv(folder / f\"{prefix}.csv\", index=False)\n",
    "        \n",
    "        output_dict = {\"folder\":str(folder), \"embedding_training\" :f\"{prefix}.txt\", \"record\": f\"{prefix}.csv\" }\n",
    "        # split train test data\n",
    "        train_test_path = TextData.split_train_test_data(output_dict)\n",
    "        \n",
    "        return output_dict | train_test_path\n",
    "    \n",
    "    @staticmethod\n",
    "    def split_train_test_data(process_all_data_output:dict):\n",
    "        \n",
    "        folder = process_all_data_output[\"folder\"]\n",
    "        folder = Path(folder) \n",
    "        record_file = process_all_data_output[\"record\"]\n",
    "        record_path = folder / record_file\n",
    "        df = pd.read_csv(record_path, low_memory=False, dtype={\"process_text\": str})\n",
    "        \n",
    "        df_train = df[df[\"type\"] == \"train\"].copy()\n",
    "        df_test = df[df[\"type\"] == \"test\"].copy()\n",
    "        \n",
    "        df_train = df_train.sort_values(by=[\"id\"]).reset_index(drop=True)\n",
    "        df_test = df_test.sort_values(by=[\"id\"]).reset_index(drop=True)\n",
    "        \n",
    "        df_train = df_train.drop(columns=[\"type\"])\n",
    "        df_test = df_test.drop(columns=[\"type\"])\n",
    "        \n",
    "        prefix = record_file.replace(\".csv\", \"\")    \n",
    "        \n",
    "        train_file = folder / f\"{prefix}_train.csv\"\n",
    "        test_file = folder / f\"{prefix}_test.csv\"\n",
    "        \n",
    "        df_train.to_csv(train_file, index=False)\n",
    "        df_test.to_csv(test_file, index=False)\n",
    "        return {\"train_path\": str(train_file), \"test_path\": str(test_file)}\n",
    "    \n",
    "    \n",
    "    @staticmethod\n",
    "    def load_from_folder(folder:str): \n",
    "        path = Path(folder)\n",
    "        if not path.exists():\n",
    "            raise FileNotFoundError(f\"Folder {folder} does not exist.\")\n",
    "        \n",
    "        train_data_json = path / \"News_train.json\"\n",
    "        test_data_json = path / \"News_test.json\"\n",
    "        \n",
    "        with open(train_data_json, 'r', encoding='utf-8') as f:\n",
    "            lines = f.readlines()\n",
    "            train_data = [json.loads(line) for line in lines]   \n",
    "            \n",
    "        with open(test_data_json, 'r', encoding='utf-8') as f:\n",
    "            lines = f.readlines()\n",
    "            test_data = [json.loads(line) for line in lines]\n",
    "        \n",
    "        train_data = pd.DataFrame(train_data)\n",
    "        test_data = pd.DataFrame(test_data)\n",
    "        \n",
    "        return TextData(train_data, test_data)\n",
    "    \n",
    "    \n",
    "    def tokenize(self, text:str | list[str]) -> np.ndarray:\n",
    "        # 使用 FastText 模型進行斷詞\n",
    "        unk_id = self.model.wv.key_to_index.get(\"<UNK>\", 0)\n",
    "        \n",
    "        if isinstance(text, str):\n",
    "            text_ls = text.split()\n",
    "        elif isinstance(text, list):\n",
    "            text_ls = text\n",
    "\n",
    "        token_nums = [\n",
    "            self.model.wv.key_to_index.get(text, unk_id)\n",
    "            for text in text_ls\n",
    "        ]\n",
    "        \n",
    "        return token_nums\n",
    "    \n",
    "    \n",
    "    def embedding_data(self):\n",
    "        vocab = self.model.wv.index_to_key\n",
    "        vocab_size = len(vocab)\n",
    "        embed_dim = self.model.wv.vector_size\n",
    "        embedding_weight = torch.FloatTensor(\n",
    "            np.array([self.model.wv[word] for word in vocab])\n",
    "        )\n",
    "        \n",
    "        return {\n",
    "            \"vocab\": vocab,\n",
    "            \"vocab_size\": vocab_size,\n",
    "            \"embed_dim\": embed_dim,\n",
    "            \"embedding_weight\": embedding_weight\n",
    "        }\n",
    "        \n",
    "    @staticmethod\n",
    "    def get_cross_entry_weights(folder_counts:dict) -> list[float]:\n",
    "        total_samples = sum(folder_counts.values())\n",
    "        num_classes = len(folder_counts)\n",
    "        class_weights = {\n",
    "            class_id: total_samples / (num_classes * count) \n",
    "            for class_id, count in folder_counts.items()\n",
    "        }\n",
    "\n",
    "        class_weights = {\n",
    "            k: v for k, v in sorted(class_weights.items(), key=lambda item: item[0])\n",
    "        }\n",
    "        \n",
    "        # 將權重轉換為 tensor 並標準化\n",
    "        weights = torch.tensor(list(class_weights.values()), dtype=torch.float)\n",
    "        weights = weights / weights.sum()\n",
    "\n",
    "        return weights.tolist()\n",
    "    \n",
    "    def ce_weights(self):\n",
    "        return self.get_cross_entry_weights(self.train_data[\"label\"].value_counts().to_dict())"
   ]
  },
  {
   "cell_type": "code",
   "execution_count": 6,
   "id": "b54d3985",
   "metadata": {},
   "outputs": [],
   "source": [
    "DATA_FOLDER = \"./2025-deep-learning-hw-2-text-classification\""
   ]
  },
  {
   "cell_type": "code",
   "execution_count": 7,
   "id": "9bb793da",
   "metadata": {},
   "outputs": [
    {
     "name": "stderr",
     "output_type": "stream",
     "text": [
      "[nltk_data] Downloading package stopwords to\n",
      "[nltk_data]     /home/keithlin/nltk_data...\n",
      "[nltk_data]   Package stopwords is already up-to-date!\n"
     ]
    },
    {
     "name": "stdout",
     "output_type": "stream",
     "text": [
      "Collecting en-core-web-sm==3.8.0\n",
      "  Downloading https://github.com/explosion/spacy-models/releases/download/en_core_web_sm-3.8.0/en_core_web_sm-3.8.0-py3-none-any.whl (12.8 MB)\n",
      "\u001b[2K     \u001b[90m━━━━━━━━━━━━━━━━━━━━━━━━━━━━━━━━━━━━━━━━\u001b[0m \u001b[32m12.8/12.8 MB\u001b[0m \u001b[31m55.6 MB/s\u001b[0m eta \u001b[36m0:00:00\u001b[0m \u001b[36m0:00:01\u001b[0m\n",
      "\u001b[?25h\u001b[38;5;2m✔ Download and installation successful\u001b[0m\n",
      "You can now load the package via spacy.load('en_core_web_sm')\n",
      "\u001b[38;5;3m⚠ Restart to reload dependencies\u001b[0m\n",
      "If you are in a Jupyter or Colab notebook, you may need to restart Python in\n",
      "order to load all the package's dependencies. You can do this by selecting the\n",
      "'Restart kernel' or 'Restart runtime' option.\n"
     ]
    }
   ],
   "source": [
    "text_data = TextData.load_from_folder(DATA_FOLDER)"
   ]
  },
  {
   "cell_type": "code",
   "execution_count": 8,
   "id": "da919086",
   "metadata": {},
   "outputs": [],
   "source": [
    "PROCESS_TYPE = \"spacy\"\n",
    "PROCESS_DATA_BATCH_SIZE = 1000"
   ]
  },
  {
   "cell_type": "code",
   "execution_count": 9,
   "id": "d16a8cf6",
   "metadata": {},
   "outputs": [],
   "source": [
    "if BUILD_TEXT_DATA:\n",
    "    output = text_data.process_all_data(PROCESS_TYPE, batch_size=PROCESS_DATA_BATCH_SIZE)"
   ]
  },
  {
   "cell_type": "code",
   "execution_count": 53,
   "id": "9483bc36",
   "metadata": {},
   "outputs": [
    {
     "name": "stdout",
     "output_type": "stream",
     "text": [
      "{'folder': 'temp', 'embedding_training': 'temp_spacy.txt', 'record': 'temp_spacy.csv', 'train_path': 'temp_spacy_train.csv', 'test_path': 'temp_spacy_test.csv'}\n"
     ]
    }
   ],
   "source": [
    "if LOAD_TEXT_DATA:\n",
    "    folder = Path(\"temp\")\n",
    "    folder.mkdir(exist_ok=True, parents=True)\n",
    "\n",
    "    prefix = f\"temp_{PROCESS_TYPE}\"\n",
    "    output = {\n",
    "        \"folder\":str(folder), \n",
    "        \"embedding_training\" :f\"{prefix}.txt\", \n",
    "        \"record\": f\"{prefix}.csv\",\n",
    "        \"train_path\":f\"{prefix}_train.csv\", \n",
    "        \"test_path\": f\"{prefix}_test.csv\" \n",
    "    }\n",
    "    print(output)"
   ]
  },
  {
   "cell_type": "code",
   "execution_count": 11,
   "id": "b8e1a60f",
   "metadata": {},
   "outputs": [],
   "source": [
    "EMBEDDING_METHOD = \"skipgram\"\n",
    "EMBEDDING_SIZE = 128"
   ]
  },
  {
   "cell_type": "code",
   "execution_count": 12,
   "id": "babd3b3f",
   "metadata": {},
   "outputs": [],
   "source": [
    "if TRAIN_EMBEDDING:\n",
    "    model_file = text_data.train_embedding_model(output, model_type=EMBEDDING_METHOD, embedding_size=EMBEDDING_SIZE)"
   ]
  },
  {
   "cell_type": "code",
   "execution_count": 13,
   "id": "f24d4630",
   "metadata": {},
   "outputs": [],
   "source": [
    "if LOAD_EMBEDDING:\n",
    "    model_file = {\"model_folder\": \"model\", \"model_file_name\":f\"{EMBEDDING_METHOD}_embed_{EMBEDDING_SIZE}.model\", \"model_type\": EMBEDDING_METHOD}"
   ]
  },
  {
   "cell_type": "code",
   "execution_count": 14,
   "id": "e9086040",
   "metadata": {},
   "outputs": [],
   "source": [
    "EMBEDDING_MODEL_PATH = Path(model_file[\"model_folder\"]) / model_file[\"model_file_name\"]"
   ]
  },
  {
   "cell_type": "code",
   "execution_count": 15,
   "id": "6648623a",
   "metadata": {},
   "outputs": [],
   "source": [
    "if LOAD_EMBEDDING:\n",
    "    text_data.load_embedding_model(str(EMBEDDING_MODEL_PATH))"
   ]
  },
  {
   "cell_type": "markdown",
   "id": "227fc6c8",
   "metadata": {},
   "source": [
    "## Dataset"
   ]
  },
  {
   "cell_type": "code",
   "execution_count": 16,
   "id": "995f6ecf",
   "metadata": {},
   "outputs": [],
   "source": [
    "class TextDataSet(Dataset):\n",
    "    def __init__(self, df_in:pd.DataFrame, key_to_index:dict, for_test:bool=False):\n",
    "        super().__init__()\n",
    "        self.key_to_index = key_to_index\n",
    "        self.data = df_in\n",
    "        \n",
    "        self.labels = natsorted(set(df_in[\"label\"].values))\n",
    "        self.for_test = for_test\n",
    "        return\n",
    "    \n",
    "    def detokenize(self, token_nums:list[int]) -> str:\n",
    "        # 使用 FastText 模型進行斷詞\n",
    "        index_to_key = list(self.key_to_index.keys())\n",
    "        text = \" \".join([\n",
    "            index_to_key[token_num]\n",
    "            for token_num in token_nums\n",
    "        ])\n",
    "        \n",
    "        return text\n",
    "    \n",
    "    def tokenize(self, text:str | list[str]) -> np.ndarray:\n",
    "        # 使用 FastText 模型進行斷詞\n",
    "        unk_id = self.key_to_index.get(\"<UNK>\", 0)\n",
    "        \n",
    "        if isinstance(text, str):\n",
    "            text_ls = text.split()\n",
    "        elif isinstance(text, list):\n",
    "            text_ls = text\n",
    "\n",
    "        token_nums = [\n",
    "            self.key_to_index.get(text, unk_id)\n",
    "            for text in text_ls\n",
    "        ]\n",
    "        \n",
    "        return token_nums\n",
    "    \n",
    "    def __len__(self):\n",
    "        return len(self.data)\n",
    "    \n",
    "    def __getitem__(self, index:int):\n",
    "        line_data = self.data.iloc[index]\n",
    "        text = line_data[\"process_text\"]\n",
    "        token_nums = self.tokenize(text)\n",
    "        token_nums = torch.tensor(token_nums, dtype=torch.long)\n",
    "        \n",
    "        if self.for_test:\n",
    "            return token_nums\n",
    "        \n",
    "        label = int(line_data[\"label\"])\n",
    "        return token_nums, torch.tensor(label, dtype=torch.long)"
   ]
  },
  {
   "cell_type": "code",
   "execution_count": 17,
   "id": "1a2c52cc",
   "metadata": {},
   "outputs": [],
   "source": [
    "class TextDataModule(L.LightningDataModule):\n",
    "    def __init__(\n",
    "        self,     \n",
    "        text_data:TextData,\n",
    "        process_all_data_output:dict, \n",
    "        batch_size:int=32, \n",
    "        num_workers:int=0, \n",
    "        pin_memory:bool=False,\n",
    "        val_ratio:float=0.1,\n",
    "    ):\n",
    "        \n",
    "        super().__init__()\n",
    "        self.text_data = text_data  \n",
    "        self.key_to_index = text_data.model.wv.key_to_index\n",
    "        self.batch_size = batch_size\n",
    "        self.num_workers = num_workers\n",
    "        self.pin_memory = pin_memory\n",
    "        \n",
    "        folder = Path(process_all_data_output[\"folder\"])\n",
    "        if not folder.exists():\n",
    "            raise FileNotFoundError(f\"Folder {folder} does not exist.\")\n",
    "        \n",
    "        self.train_df_path = folder / process_all_data_output[\"train_path\"]\n",
    "        self.test_df_path = folder / process_all_data_output[\"test_path\"]\n",
    "        self.val_ratio = val_ratio\n",
    "        \n",
    "        return \n",
    "\n",
    "    def setup(self, stage=None):\n",
    "        if stage == \"fit\" or stage is None:\n",
    "            train_df = pd.read_csv(self.train_df_path)\n",
    "            \n",
    "            large_data = TextDataSet(train_df, key_to_index=self.key_to_index)\n",
    "            #TODO: split train and val dataset\n",
    "            total_size = len(large_data)\n",
    "            val_size = int(total_size * self.val_ratio)\n",
    "            train_size = total_size - val_size\n",
    "            \n",
    "            self.train_dataset, self.val_dataset = random_split(\n",
    "                large_data, [train_size, val_size]\n",
    "            )\n",
    "            \n",
    "            #TODO: build test dataset\n",
    "            self.predict_df = pd.read_csv(self.test_df_path)\n",
    "            self.predict_dataset = TextDataSet(self.predict_df, key_to_index=self.key_to_index, for_test=True)\n",
    "            \n",
    "            # get label\n",
    "            self.labels = natsorted(set(train_df[\"label\"].values))\n",
    "            self.number_of_classes = len(self.labels)\n",
    "            \n",
    "        \n",
    "        elif stage == \"predict\":\n",
    "            self.predict_df = pd.read_csv(self.test_df_path)\n",
    "            self.predict_dataset = TextDataSet(self.predict_df, key_to_index=self.key_to_index, for_test=True)\n",
    "        \n",
    "        \n",
    "    \n",
    "    def detokenize(self, token_nums:list[int]) -> str:\n",
    "        # 使用 FastText 模型進行斷詞\n",
    "        index_to_key = list(self.key_to_index.keys())\n",
    "        text = \" \".join([\n",
    "            index_to_key[token_num]\n",
    "            for token_num in token_nums\n",
    "        ])\n",
    "        \n",
    "        return text\n",
    "    \n",
    "    def pad_collate(self, batch) -> tuple[torch.Tensor, torch.Tensor]:\n",
    "        inputs, targets = zip(*batch)\n",
    "\n",
    "        # 使用 PyTorch 的 pad_sequence 函数对输入进行填充\n",
    "        inputs = pad_sequence(\n",
    "            inputs, batch_first=True, padding_value=self.key_to_index[\"<PAD>\"]\n",
    "        )\n",
    "        targets = torch.stack(targets, dim=0)\n",
    "        \n",
    "\n",
    "        return inputs, targets\n",
    "    \n",
    "    def pad_collate_predict(self, batch) -> tuple[torch.Tensor, torch.Tensor]:\n",
    "        inputs = batch\n",
    "\n",
    "        # 使用 PyTorch 的 pad_sequence 函数对输入进行填充\n",
    "        inputs = pad_sequence(\n",
    "            inputs, batch_first=True, padding_value=self.key_to_index[\"<PAD>\"]\n",
    "        )\n",
    "        \n",
    "\n",
    "        return inputs\n",
    "    \n",
    "    def train_dataloader(self):\n",
    "        return DataLoader(\n",
    "            self.train_dataset,\n",
    "            batch_size=self.batch_size,\n",
    "            num_workers=self.num_workers,\n",
    "            pin_memory=self.pin_memory,\n",
    "            shuffle=True,\n",
    "            collate_fn=self.pad_collate,\n",
    "        )\n",
    "    \n",
    "    def val_dataloader(self):\n",
    "        return DataLoader(\n",
    "            self.val_dataset,\n",
    "            batch_size=self.batch_size,\n",
    "            num_workers=self.num_workers,\n",
    "            pin_memory=self.pin_memory,\n",
    "            shuffle=False,\n",
    "            collate_fn=self.pad_collate,\n",
    "        )\n",
    "    \n",
    "    def predict_dataloader(self):\n",
    "        return DataLoader(\n",
    "            self.predict_dataset,\n",
    "            batch_size=self.batch_size,\n",
    "            num_workers=self.num_workers,\n",
    "            pin_memory=self.pin_memory,\n",
    "            shuffle=False,\n",
    "            collate_fn=self.pad_collate_predict,\n",
    "        )"
   ]
  },
  {
   "cell_type": "markdown",
   "id": "0ffb47d2",
   "metadata": {},
   "source": [
    "## Model\n"
   ]
  },
  {
   "cell_type": "code",
   "execution_count": 18,
   "id": "e768ee5c",
   "metadata": {},
   "outputs": [],
   "source": [
    "class PositionalEncoding(nn.Module):\n",
    "    def __init__(self, d_model, dropout=0.1, max_len=512):\n",
    "        super().__init__()\n",
    "        self.dropout = nn.Dropout(dropout)\n",
    "\n",
    "        pe = torch.zeros(max_len, d_model)\n",
    "        position = torch.arange(0, max_len, dtype=torch.float).unsqueeze(1)\n",
    "        div_term = torch.exp(\n",
    "            torch.arange(0, d_model, 2).float() * (-math.log(10000.0) / d_model)\n",
    "        )\n",
    "        pe[:, 0::2] = torch.sin(position * div_term)\n",
    "        # 若 d_model 為奇數，cos 會略少一個維度\n",
    "        if d_model % 2 == 1:\n",
    "            pe[:, 1::2] = torch.cos(position * div_term[:-1])\n",
    "        else:\n",
    "            pe[:, 1::2] = torch.cos(position * div_term)\n",
    "        pe = pe.unsqueeze(0)  # shape: (1, max_len, d_model)\n",
    "        self.register_buffer(\"pe\", pe)\n",
    "\n",
    "    def forward(self, x: torch.Tensor) -> torch.Tensor:\n",
    "        # x shape: (batch_size, seq_len, d_model)\n",
    "        x = x + self.pe[:, : x.size(1), :]\n",
    "        return self.dropout(x)\n",
    "\n",
    "\n",
    "@dataclass(slots=True)\n",
    "class EmbeddingConfig:\n",
    "    vocab_size: int\n",
    "    embed_dim: int\n",
    "\n",
    "    # fast_text_pretrained\n",
    "    state: bool = False\n",
    "    model_path: str = None\n",
    "    freeze: bool = False\n",
    "\n",
    "    @staticmethod\n",
    "    def config(vocab_size: int, embed_dim: int):\n",
    "        return EmbeddingConfig(vocab_size=vocab_size, embed_dim=embed_dim)\n",
    "\n",
    "    @staticmethod\n",
    "    def load_embedding_pretrain(embedding_path: str, freeze: bool = True):\n",
    "        return EmbeddingConfig(\n",
    "            vocab_size=0,\n",
    "            embed_dim=0,\n",
    "            state=True,\n",
    "            model_path=embedding_path,\n",
    "            freeze=freeze,\n",
    "        )\n",
    "\n",
    "    @staticmethod\n",
    "    def embedding_data(model: Word2Vec):\n",
    "        vocab = model.wv.index_to_key\n",
    "        vocab_size = len(vocab)\n",
    "        embed_dim = model.wv.vector_size\n",
    "        embedding_weight = torch.FloatTensor(\n",
    "            np.array([model.wv[word] for word in vocab])\n",
    "        )\n",
    "\n",
    "        return {\n",
    "            \"vocab\": vocab,\n",
    "            \"vocab_size\": vocab_size,\n",
    "            \"embed_dim\": embed_dim,\n",
    "            \"embedding_weight\": embedding_weight,\n",
    "        }\n",
    "\n",
    "    def build_embedding_weight(self) -> torch.Tensor:\n",
    "\n",
    "        if not self.state:\n",
    "            raise ValueError(\n",
    "                \"EmbeddingConfig: fasttext pretrained embedding not found.\"\n",
    "            )\n",
    "\n",
    "        file_path = Path(self.model_path)\n",
    "        if not file_path.exists():\n",
    "            raise ValueError(\n",
    "                f\"EmbeddingConfig: fasttext pretrained embedding not found. {file_path}\"\n",
    "            )\n",
    "\n",
    "        model = FastText.load(str(file_path))\n",
    "        embedding_data = self.embedding_data(model)\n",
    "        self.vocab_size = embedding_data[\"vocab_size\"]\n",
    "        self.embed_dim = embedding_data[\"embed_dim\"]\n",
    "\n",
    "        return embedding_data[\"embedding_weight\"]\n",
    "\n",
    "\n",
    "class TransformerClassifier(L.LightningModule):\n",
    "    def __init__(\n",
    "        self,\n",
    "        config_dict: dict,\n",
    "        num_classes: int,\n",
    "        nhead: int = 8,\n",
    "        num_layers: int = 2,\n",
    "        dim_feedforward: int = 512,\n",
    "        dropout: float = 0.1,\n",
    "        max_seq_length: int = 512,\n",
    "        ce_weights: list[float] = None,\n",
    "    ):\n",
    "        super().__init__()\n",
    "\n",
    "        # vocab_size, embed_dim, embedding_weight = self.decode_config(config_dict)\n",
    "        config = EmbeddingConfig(**config_dict)\n",
    "        self.embedding, config = self.build_embedding(config)\n",
    "        self.embed_dim = config.embed_dim\n",
    "\n",
    "        self.pos_encoder = PositionalEncoding(self.embed_dim, dropout, max_seq_length)\n",
    "\n",
    "        encoder_layer = nn.TransformerEncoderLayer(\n",
    "            d_model=self.embed_dim,\n",
    "            nhead=nhead,\n",
    "            dim_feedforward=dim_feedforward,\n",
    "            dropout=dropout,\n",
    "            batch_first=True,\n",
    "        )\n",
    "\n",
    "        self.transformer_encoder = nn.TransformerEncoder(\n",
    "            encoder_layer, num_layers=num_layers\n",
    "        )\n",
    "\n",
    "        # 可採用簡單的池化方式，例如取 [CLS] token 的輸出\n",
    "        \n",
    "        self.classifier = nn.Sequential(\n",
    "            nn.Linear(self.embed_dim, self.embed_dim//2),\n",
    "            nn.Tanh(),\n",
    "            nn.Linear(self.embed_dim//2, num_classes),\n",
    "        )\n",
    "        \n",
    "        ce_weights = torch.tensor(ce_weights, dtype=torch.float) if ce_weights else None\n",
    "        \n",
    "        self.loss_func = nn.CrossEntropyLoss(ce_weights)\n",
    "        self.save_hyperparameters()\n",
    "        return\n",
    "\n",
    "    def build_embedding(self, config: EmbeddingConfig):\n",
    "\n",
    "        if not config.state:\n",
    "            return nn.Embedding(config.vocab_size, config.embed_dim), config\n",
    "\n",
    "        embedding_weight = config.build_embedding_weight()\n",
    "\n",
    "        return (\n",
    "            nn.Embedding.from_pretrained(embedding_weight, freeze=config.freeze),\n",
    "            config,\n",
    "        )\n",
    "\n",
    "    def forward(self, src):\n",
    "        # src shape: (batch_size, seq_len) --> token ids\n",
    "        x = self.embedding(src) * math.sqrt(\n",
    "            self.embed_dim\n",
    "        )  # (batch_size, seq_len, embed_dim)\n",
    "        x = self.pos_encoder(x)\n",
    "        # TransformerEncoder 預設輸入 shape: (seq_len, batch_size, embed_dim)\n",
    "        # x = x.transpose(0, 1)\n",
    "        x = self.transformer_encoder(x)  # (seq_len, batch_size, embed_dim)\n",
    "        # 此處假設第一個 token 為 [CLS] token，可用於分類\n",
    "        # cls_token = x[0]  # shape: (batch_size, embed_dim)\n",
    "        # x = x[:, 0, :]  # shape: (batch_size, embed_dim)\n",
    "        x = x.mean(dim=1)  # shape: (batch_size, embed_dim)\n",
    "        logits = self.classifier(x)  # shape: (batch_size, num_classes)\n",
    "        return logits\n",
    "    \n",
    "    def loss_and_update_logs(self, pred: torch.Tensor, target: torch.Tensor, stage: str):\n",
    "        \n",
    "        loss = self.loss_func(pred, target)\n",
    "\n",
    "        acc = (torch.argmax(pred, dim=1) == target).float().mean()\n",
    "\n",
    "        self.log_dict({f\"{stage}_loss\": loss, f\"{stage}_acc\": acc})\n",
    "        return loss\n",
    "    \n",
    "    def training_step(self,batch, batch_idx):\n",
    "        inputs, targets = batch\n",
    "        logits = self(inputs)\n",
    "        loss = self.loss_and_update_logs(logits, targets, \"train\")\n",
    "        return loss\n",
    "    \n",
    "    def validation_step(self, batch, batch_idx):\n",
    "        inputs, targets = batch\n",
    "        logits = self(inputs)\n",
    "        \n",
    "        self.loss_and_update_logs(logits, targets, \"val\")\n",
    "        return \n",
    "    \n",
    "    def predict_step(self, batch, batch_idx, dataloader_idx=0):\n",
    "        return self(batch)\n",
    "    \n",
    "    def configure_optimizers(self):\n",
    "        optimizer = optim.AdamW(self.parameters(),  lr=1e-3, weight_decay=1e-2)\n",
    "        total_steps = 600\n",
    "        scheduler = CosineAnnealingLR(optimizer,T_max=total_steps, eta_min=1e-6)\n",
    "        return {\n",
    "            \"optimizer\": optimizer, \n",
    "            \"lr_scheduler\": scheduler\n",
    "        }\n",
    "\n",
    "    @staticmethod\n",
    "    def load_from_embedding_pretrained(\n",
    "        embedding_path: str,\n",
    "        num_classes: int,\n",
    "        feeze_pretrained_embedding: bool = True,\n",
    "        nhead: int = 8,\n",
    "        num_layers: int = 2,\n",
    "        dim_feedforward: int = 512,\n",
    "        dropout: float = 0.1,\n",
    "        max_seq_length: int = 512,\n",
    "        ce_weights: list[float] = None,\n",
    "    ):\n",
    "        embedding_config = EmbeddingConfig.load_embedding_pretrain(\n",
    "            embedding_path, feeze_pretrained_embedding\n",
    "        )\n",
    "\n",
    "        return TransformerClassifier(\n",
    "            asdict(embedding_config),\n",
    "            num_classes=num_classes,\n",
    "            nhead=nhead,\n",
    "            num_layers=num_layers,\n",
    "            dim_feedforward=dim_feedforward,\n",
    "            dropout=dropout,\n",
    "            max_seq_length=max_seq_length,\n",
    "            ce_weights=ce_weights,\n",
    "        )\n",
    "        \n",
    "    @staticmethod\n",
    "    def build_model(\n",
    "        vocab_size: int,\n",
    "        embed_dim: int,\n",
    "        num_classes: int,\n",
    "        nhead: int = 8,\n",
    "        num_layers: int = 2,\n",
    "        dim_feedforward: int = 512,\n",
    "        dropout: float = 0.1,\n",
    "        max_seq_length: int = 512,\n",
    "        ce_weights: list[float] = None,\n",
    "    ):\n",
    "        embedding_config = EmbeddingConfig.config(\n",
    "            vocab_size=vocab_size, embed_dim=embed_dim\n",
    "        )\n",
    "        return TransformerClassifier(\n",
    "            asdict(embedding_config),\n",
    "            num_classes=num_classes,\n",
    "            nhead=nhead,\n",
    "            num_layers=num_layers,\n",
    "            dim_feedforward=dim_feedforward,\n",
    "            dropout=dropout,\n",
    "            max_seq_length=max_seq_length,\n",
    "            ce_weights=ce_weights,\n",
    "        )\n",
    "        \n",
    "    "
   ]
  },
  {
   "cell_type": "markdown",
   "id": "990ade99",
   "metadata": {},
   "source": [
    "## Build Training Loop"
   ]
  },
  {
   "cell_type": "code",
   "execution_count": null,
   "id": "91515323",
   "metadata": {},
   "outputs": [
    {
     "name": "stdout",
     "output_type": "stream",
     "text": [
      "==============================\n",
      "model config\n",
      "{'embedding_path': 'model/skipgram_embed_128.model', 'num_classes': 15, 'feeze_pretrained_embedding': True, 'nhead': 8, 'num_layers': 6, 'dim_feedforward': 512, 'dropout': 0.2, 'max_seq_length': 512, 'ce_weights': None}\n",
      "==============================\n",
      "data config\n",
      "{'text_data': <__main__.TextData object at 0x760d3180b1a0>, 'process_all_data_output': {'folder': 'temp', 'embedding_training': 'temp_spacy.txt', 'record': 'temp_spacy.csv', 'train_path': 'temp_spacy_train.csv', 'test_path': 'temp_spacy_test.csv'}, 'batch_size': 256, 'num_workers': 4, 'pin_memory': False, 'val_ratio': 0.15}\n",
      "==============================\n"
     ]
    }
   ],
   "source": [
    "RECOMMEND_N_HEAD = min(8, EMBEDDING_SIZE // 16)\n",
    "RECOMMEND_DIM_FEEDFORWARD = max(EMBEDDING_SIZE * 4, 256)\n",
    "RECOMMEND_CE_WEIGHTS = text_data.ce_weights()\n",
    "# model \n",
    "MODEL_CONFIG = {\n",
    "    \"embedding_path\": str(EMBEDDING_MODEL_PATH),\n",
    "    \"num_classes\": 15,\n",
    "    \"feeze_pretrained_embedding\": True,\n",
    "    # \"nhead\": 8,\n",
    "    \"nhead\": RECOMMEND_N_HEAD,\n",
    "    \"num_layers\": 4,\n",
    "    # \"dim_feedforward\":1024,\n",
    "    \"dim_feedforward\":RECOMMEND_DIM_FEEDFORWARD,\n",
    "    \"dropout\": 0.2,\n",
    "    \"max_seq_length\": 512,\n",
    "    # \"ce_weights\" : RECOMMEND_CE_WEIGHTS\n",
    "    \"ce_weights\" : None,\n",
    "}\n",
    "\n",
    "# data module\n",
    "DATA_CONFIG= {\n",
    "    \"text_data\": text_data,\n",
    "    \"process_all_data_output\": output,\n",
    "    \"batch_size\": 256,\n",
    "    \"num_workers\": 4,\n",
    "    \"pin_memory\": False,\n",
    "    \"val_ratio\": 0.15,\n",
    "}\n",
    "\n",
    "# training \n",
    "EPOCHS = 30\n",
    "\n",
    "print(\"=\"*30)\n",
    "print(\"model config\")\n",
    "print(MODEL_CONFIG)\n",
    "print(\"=\"*30)\n",
    "print(\"data config\")\n",
    "print(DATA_CONFIG)\n",
    "print(\"=\"*30)"
   ]
  },
  {
   "cell_type": "code",
   "execution_count": 55,
   "id": "993cb845",
   "metadata": {},
   "outputs": [],
   "source": [
    "model = TransformerClassifier.load_from_embedding_pretrained(**MODEL_CONFIG)"
   ]
  },
  {
   "cell_type": "code",
   "execution_count": 56,
   "id": "e2f2461a",
   "metadata": {},
   "outputs": [
    {
     "name": "stdout",
     "output_type": "stream",
     "text": [
      "TransformerClassifier(\n",
      "  (embedding): Embedding(74602, 128)\n",
      "  (pos_encoder): PositionalEncoding(\n",
      "    (dropout): Dropout(p=0.2, inplace=False)\n",
      "  )\n",
      "  (transformer_encoder): TransformerEncoder(\n",
      "    (layers): ModuleList(\n",
      "      (0-5): 6 x TransformerEncoderLayer(\n",
      "        (self_attn): MultiheadAttention(\n",
      "          (out_proj): NonDynamicallyQuantizableLinear(in_features=128, out_features=128, bias=True)\n",
      "        )\n",
      "        (linear1): Linear(in_features=128, out_features=512, bias=True)\n",
      "        (dropout): Dropout(p=0.2, inplace=False)\n",
      "        (linear2): Linear(in_features=512, out_features=128, bias=True)\n",
      "        (norm1): LayerNorm((128,), eps=1e-05, elementwise_affine=True)\n",
      "        (norm2): LayerNorm((128,), eps=1e-05, elementwise_affine=True)\n",
      "        (dropout1): Dropout(p=0.2, inplace=False)\n",
      "        (dropout2): Dropout(p=0.2, inplace=False)\n",
      "      )\n",
      "    )\n",
      "  )\n",
      "  (classifier): Sequential(\n",
      "    (0): Linear(in_features=128, out_features=64, bias=True)\n",
      "    (1): Tanh()\n",
      "    (2): Linear(in_features=64, out_features=15, bias=True)\n",
      "  )\n",
      "  (loss_func): CrossEntropyLoss()\n",
      ")\n"
     ]
    }
   ],
   "source": [
    "print(model)"
   ]
  },
  {
   "cell_type": "code",
   "execution_count": 23,
   "id": "52a9ea53",
   "metadata": {},
   "outputs": [],
   "source": [
    "if False:\n",
    "    dummy_input = torch.randint(0, 100, (2, 512))\n",
    "    print(dummy_input.shape)\n",
    "    dummy_output = model(dummy_input)\n",
    "    print(dummy_output.shape)"
   ]
  },
  {
   "cell_type": "code",
   "execution_count": 40,
   "id": "7892f23e",
   "metadata": {},
   "outputs": [],
   "source": [
    "# data module\n",
    "datamodule = TextDataModule(**DATA_CONFIG)"
   ]
  },
  {
   "cell_type": "code",
   "execution_count": 41,
   "id": "86f7caba",
   "metadata": {},
   "outputs": [],
   "source": [
    "OUTPUT_PATH = Path(ALL_OUTPUT_PATH)"
   ]
  },
  {
   "cell_type": "code",
   "execution_count": 42,
   "id": "c99c9315",
   "metadata": {},
   "outputs": [
    {
     "name": "stderr",
     "output_type": "stream",
     "text": [
      "GPU available: True (cuda), used: True\n",
      "TPU available: False, using: 0 TPU cores\n",
      "HPU available: False, using: 0 HPUs\n"
     ]
    }
   ],
   "source": [
    "csv_logger = CSVLogger(OUTPUT_PATH / \"logs\", name=f\"Norm_Transformers_ce_embed_{EMBEDDING_SIZE}\")\n",
    "\n",
    "checkpoint_callback = ModelCheckpoint(\n",
    "    monitor=\"val_loss\",\n",
    "    # dirpath=\"checkpoints\",\n",
    "    filename=\"model-{epoch:02d}-{val_loss:.2f}-{val_acc:.2f}\",\n",
    "    save_top_k=3,\n",
    "    mode=\"min\",\n",
    "    save_last=True,\n",
    ")\n",
    "\n",
    "early_stop_callback = EarlyStopping(\n",
    "    monitor=\"val_loss\",\n",
    "    patience=10,\n",
    "    mode=\"min\"\n",
    ")\n",
    "\n",
    "# %%\n",
    "trainer = L.Trainer(\n",
    "    callbacks=[checkpoint_callback, early_stop_callback],\n",
    "    logger=csv_logger,\n",
    "    max_epochs=EPOCHS,\n",
    "    # fast_dev_run=True,\n",
    "    # log_every_n_steps=20,\n",
    ")"
   ]
  },
  {
   "cell_type": "code",
   "execution_count": 43,
   "id": "9aeb21bf",
   "metadata": {},
   "outputs": [
    {
     "name": "stderr",
     "output_type": "stream",
     "text": [
      "LOCAL_RANK: 0 - CUDA_VISIBLE_DEVICES: [0]\n",
      "\n",
      "  | Name                | Type               | Params | Mode \n",
      "-------------------------------------------------------------------\n",
      "0 | embedding           | Embedding          | 9.5 M  | train\n",
      "1 | pos_encoder         | PositionalEncoding | 0      | train\n",
      "2 | transformer_encoder | TransformerEncoder | 793 K  | train\n",
      "3 | classifier          | Sequential         | 9.2 K  | train\n",
      "4 | loss_func           | CrossEntropyLoss   | 0      | train\n",
      "-------------------------------------------------------------------\n",
      "802 K     Trainable params\n",
      "9.5 M     Non-trainable params\n",
      "10.4 M    Total params\n",
      "41.405    Total estimated model params size (MB)\n",
      "50        Modules in train mode\n",
      "0         Modules in eval mode\n"
     ]
    },
    {
     "data": {
      "application/vnd.jupyter.widget-view+json": {
       "model_id": "d4c65b2a94ab4c1c9a6ed56e1437628d",
       "version_major": 2,
       "version_minor": 0
      },
      "text/plain": [
       "Sanity Checking: |          | 0/? [00:00<?, ?it/s]"
      ]
     },
     "metadata": {},
     "output_type": "display_data"
    },
    {
     "data": {
      "application/vnd.jupyter.widget-view+json": {
       "model_id": "4846897751de41949d7b86aa03a3ae22",
       "version_major": 2,
       "version_minor": 0
      },
      "text/plain": [
       "Training: |          | 0/? [00:00<?, ?it/s]"
      ]
     },
     "metadata": {},
     "output_type": "display_data"
    },
    {
     "data": {
      "application/vnd.jupyter.widget-view+json": {
       "model_id": "691c3257f61240188daf22bb2c3e7521",
       "version_major": 2,
       "version_minor": 0
      },
      "text/plain": [
       "Validation: |          | 0/? [00:00<?, ?it/s]"
      ]
     },
     "metadata": {},
     "output_type": "display_data"
    },
    {
     "data": {
      "application/vnd.jupyter.widget-view+json": {
       "model_id": "79c269f014d34548975394e31b08b6b0",
       "version_major": 2,
       "version_minor": 0
      },
      "text/plain": [
       "Validation: |          | 0/? [00:00<?, ?it/s]"
      ]
     },
     "metadata": {},
     "output_type": "display_data"
    },
    {
     "data": {
      "application/vnd.jupyter.widget-view+json": {
       "model_id": "166bd6c4105646b58a007a1ebe5b3f7d",
       "version_major": 2,
       "version_minor": 0
      },
      "text/plain": [
       "Validation: |          | 0/? [00:00<?, ?it/s]"
      ]
     },
     "metadata": {},
     "output_type": "display_data"
    },
    {
     "data": {
      "application/vnd.jupyter.widget-view+json": {
       "model_id": "a54fd3db45424beb9c38805d41a54970",
       "version_major": 2,
       "version_minor": 0
      },
      "text/plain": [
       "Validation: |          | 0/? [00:00<?, ?it/s]"
      ]
     },
     "metadata": {},
     "output_type": "display_data"
    },
    {
     "data": {
      "application/vnd.jupyter.widget-view+json": {
       "model_id": "489d9bcf6394457fb481e4cb04294e90",
       "version_major": 2,
       "version_minor": 0
      },
      "text/plain": [
       "Validation: |          | 0/? [00:00<?, ?it/s]"
      ]
     },
     "metadata": {},
     "output_type": "display_data"
    },
    {
     "data": {
      "application/vnd.jupyter.widget-view+json": {
       "model_id": "34091237f9dd4eae85daca55ca86b635",
       "version_major": 2,
       "version_minor": 0
      },
      "text/plain": [
       "Validation: |          | 0/? [00:00<?, ?it/s]"
      ]
     },
     "metadata": {},
     "output_type": "display_data"
    },
    {
     "data": {
      "application/vnd.jupyter.widget-view+json": {
       "model_id": "c1bba4b7bfdb4621889d75d01b257ada",
       "version_major": 2,
       "version_minor": 0
      },
      "text/plain": [
       "Validation: |          | 0/? [00:00<?, ?it/s]"
      ]
     },
     "metadata": {},
     "output_type": "display_data"
    },
    {
     "data": {
      "application/vnd.jupyter.widget-view+json": {
       "model_id": "440aaa2a6b1841188dc803a2dc1623c2",
       "version_major": 2,
       "version_minor": 0
      },
      "text/plain": [
       "Validation: |          | 0/? [00:00<?, ?it/s]"
      ]
     },
     "metadata": {},
     "output_type": "display_data"
    },
    {
     "data": {
      "application/vnd.jupyter.widget-view+json": {
       "model_id": "5d6036c0113847499c35519768e37d77",
       "version_major": 2,
       "version_minor": 0
      },
      "text/plain": [
       "Validation: |          | 0/? [00:00<?, ?it/s]"
      ]
     },
     "metadata": {},
     "output_type": "display_data"
    },
    {
     "data": {
      "application/vnd.jupyter.widget-view+json": {
       "model_id": "e545175478f4492aa6b1d02fda38d642",
       "version_major": 2,
       "version_minor": 0
      },
      "text/plain": [
       "Validation: |          | 0/? [00:00<?, ?it/s]"
      ]
     },
     "metadata": {},
     "output_type": "display_data"
    },
    {
     "data": {
      "application/vnd.jupyter.widget-view+json": {
       "model_id": "6a3ecca1a86c43499f912633cc3d80d2",
       "version_major": 2,
       "version_minor": 0
      },
      "text/plain": [
       "Validation: |          | 0/? [00:00<?, ?it/s]"
      ]
     },
     "metadata": {},
     "output_type": "display_data"
    },
    {
     "data": {
      "application/vnd.jupyter.widget-view+json": {
       "model_id": "688f625f1136444bb6afdaa8462fde01",
       "version_major": 2,
       "version_minor": 0
      },
      "text/plain": [
       "Validation: |          | 0/? [00:00<?, ?it/s]"
      ]
     },
     "metadata": {},
     "output_type": "display_data"
    },
    {
     "data": {
      "application/vnd.jupyter.widget-view+json": {
       "model_id": "ddc0e669f78f4884a7728ae03794d623",
       "version_major": 2,
       "version_minor": 0
      },
      "text/plain": [
       "Validation: |          | 0/? [00:00<?, ?it/s]"
      ]
     },
     "metadata": {},
     "output_type": "display_data"
    },
    {
     "data": {
      "application/vnd.jupyter.widget-view+json": {
       "model_id": "e0a0ac701aa24572997b1d7e5216ae60",
       "version_major": 2,
       "version_minor": 0
      },
      "text/plain": [
       "Validation: |          | 0/? [00:00<?, ?it/s]"
      ]
     },
     "metadata": {},
     "output_type": "display_data"
    },
    {
     "data": {
      "application/vnd.jupyter.widget-view+json": {
       "model_id": "f2a5071ac06a40b2b193ec8d0497a7d7",
       "version_major": 2,
       "version_minor": 0
      },
      "text/plain": [
       "Validation: |          | 0/? [00:00<?, ?it/s]"
      ]
     },
     "metadata": {},
     "output_type": "display_data"
    },
    {
     "data": {
      "application/vnd.jupyter.widget-view+json": {
       "model_id": "db72ec5e7a5f43278b49305d689c2385",
       "version_major": 2,
       "version_minor": 0
      },
      "text/plain": [
       "Validation: |          | 0/? [00:00<?, ?it/s]"
      ]
     },
     "metadata": {},
     "output_type": "display_data"
    },
    {
     "data": {
      "application/vnd.jupyter.widget-view+json": {
       "model_id": "4874149d1a02410dbfd63b314ad228d9",
       "version_major": 2,
       "version_minor": 0
      },
      "text/plain": [
       "Validation: |          | 0/? [00:00<?, ?it/s]"
      ]
     },
     "metadata": {},
     "output_type": "display_data"
    },
    {
     "data": {
      "application/vnd.jupyter.widget-view+json": {
       "model_id": "d1ad1d9ce0a14c07a78f8b3fc7150fbc",
       "version_major": 2,
       "version_minor": 0
      },
      "text/plain": [
       "Validation: |          | 0/? [00:00<?, ?it/s]"
      ]
     },
     "metadata": {},
     "output_type": "display_data"
    },
    {
     "data": {
      "application/vnd.jupyter.widget-view+json": {
       "model_id": "96a46ebfc1d7404a8b8988e22641d968",
       "version_major": 2,
       "version_minor": 0
      },
      "text/plain": [
       "Validation: |          | 0/? [00:00<?, ?it/s]"
      ]
     },
     "metadata": {},
     "output_type": "display_data"
    },
    {
     "data": {
      "application/vnd.jupyter.widget-view+json": {
       "model_id": "f1345d7c302b41e6af81f050b17f9332",
       "version_major": 2,
       "version_minor": 0
      },
      "text/plain": [
       "Validation: |          | 0/? [00:00<?, ?it/s]"
      ]
     },
     "metadata": {},
     "output_type": "display_data"
    },
    {
     "data": {
      "application/vnd.jupyter.widget-view+json": {
       "model_id": "ca02263c8b5547fab212442f0348066a",
       "version_major": 2,
       "version_minor": 0
      },
      "text/plain": [
       "Validation: |          | 0/? [00:00<?, ?it/s]"
      ]
     },
     "metadata": {},
     "output_type": "display_data"
    },
    {
     "data": {
      "application/vnd.jupyter.widget-view+json": {
       "model_id": "5f31d9f800824f0b89bb13fb7f487822",
       "version_major": 2,
       "version_minor": 0
      },
      "text/plain": [
       "Validation: |          | 0/? [00:00<?, ?it/s]"
      ]
     },
     "metadata": {},
     "output_type": "display_data"
    },
    {
     "data": {
      "application/vnd.jupyter.widget-view+json": {
       "model_id": "1aacb08b89814b169aeb938c165314bb",
       "version_major": 2,
       "version_minor": 0
      },
      "text/plain": [
       "Validation: |          | 0/? [00:00<?, ?it/s]"
      ]
     },
     "metadata": {},
     "output_type": "display_data"
    },
    {
     "data": {
      "application/vnd.jupyter.widget-view+json": {
       "model_id": "6b403edb700748fe838489c74491505f",
       "version_major": 2,
       "version_minor": 0
      },
      "text/plain": [
       "Validation: |          | 0/? [00:00<?, ?it/s]"
      ]
     },
     "metadata": {},
     "output_type": "display_data"
    },
    {
     "data": {
      "application/vnd.jupyter.widget-view+json": {
       "model_id": "1933e0eb91df47cca5d56930a00aa8b1",
       "version_major": 2,
       "version_minor": 0
      },
      "text/plain": [
       "Validation: |          | 0/? [00:00<?, ?it/s]"
      ]
     },
     "metadata": {},
     "output_type": "display_data"
    },
    {
     "data": {
      "application/vnd.jupyter.widget-view+json": {
       "model_id": "db28b58a04a448c6874bad9390711f3a",
       "version_major": 2,
       "version_minor": 0
      },
      "text/plain": [
       "Validation: |          | 0/? [00:00<?, ?it/s]"
      ]
     },
     "metadata": {},
     "output_type": "display_data"
    },
    {
     "data": {
      "application/vnd.jupyter.widget-view+json": {
       "model_id": "89da72e085bd414e8501e69e9fd37b4f",
       "version_major": 2,
       "version_minor": 0
      },
      "text/plain": [
       "Validation: |          | 0/? [00:00<?, ?it/s]"
      ]
     },
     "metadata": {},
     "output_type": "display_data"
    },
    {
     "data": {
      "application/vnd.jupyter.widget-view+json": {
       "model_id": "b4c6755a468e4ebcb3a7dc0d3894f6a8",
       "version_major": 2,
       "version_minor": 0
      },
      "text/plain": [
       "Validation: |          | 0/? [00:00<?, ?it/s]"
      ]
     },
     "metadata": {},
     "output_type": "display_data"
    }
   ],
   "source": [
    "trainer.fit(model, datamodule=datamodule)"
   ]
  },
  {
   "cell_type": "code",
   "execution_count": 44,
   "id": "1771e86f",
   "metadata": {},
   "outputs": [
    {
     "name": "stdout",
     "output_type": "stream",
     "text": [
      "Best model checkpoint path: logs/Norm_Transformers_ce_embed_128/version_2/checkpoints/model-epoch=17-val_loss=0.69-val_acc=0.78.ckpt\n"
     ]
    }
   ],
   "source": [
    "best_model_path = checkpoint_callback.best_model_path\n",
    "print(\"Best model checkpoint path:\", best_model_path)"
   ]
  },
  {
   "cell_type": "code",
   "execution_count": 45,
   "id": "a14afb30",
   "metadata": {},
   "outputs": [
    {
     "name": "stderr",
     "output_type": "stream",
     "text": [
      "Restoring states from the checkpoint path at logs/Norm_Transformers_ce_embed_128/version_2/checkpoints/model-epoch=17-val_loss=0.69-val_acc=0.78.ckpt\n",
      "LOCAL_RANK: 0 - CUDA_VISIBLE_DEVICES: [0]\n",
      "Loaded model weights from the checkpoint at logs/Norm_Transformers_ce_embed_128/version_2/checkpoints/model-epoch=17-val_loss=0.69-val_acc=0.78.ckpt\n"
     ]
    },
    {
     "data": {
      "application/vnd.jupyter.widget-view+json": {
       "model_id": "599129bd7020469f84d7def1a86a7d01",
       "version_major": 2,
       "version_minor": 0
      },
      "text/plain": [
       "Validation: |          | 0/? [00:00<?, ?it/s]"
      ]
     },
     "metadata": {},
     "output_type": "display_data"
    },
    {
     "data": {
      "text/html": [
       "<pre style=\"white-space:pre;overflow-x:auto;line-height:normal;font-family:Menlo,'DejaVu Sans Mono',consolas,'Courier New',monospace\">┏━━━━━━━━━━━━━━━━━━━━━━━━━━━┳━━━━━━━━━━━━━━━━━━━━━━━━━━━┓\n",
       "┃<span style=\"font-weight: bold\">      Validate metric      </span>┃<span style=\"font-weight: bold\">       DataLoader 0        </span>┃\n",
       "┡━━━━━━━━━━━━━━━━━━━━━━━━━━━╇━━━━━━━━━━━━━━━━━━━━━━━━━━━┩\n",
       "│<span style=\"color: #008080; text-decoration-color: #008080\">          val_acc          </span>│<span style=\"color: #800080; text-decoration-color: #800080\">    0.7820166349411011     </span>│\n",
       "│<span style=\"color: #008080; text-decoration-color: #008080\">         val_loss          </span>│<span style=\"color: #800080; text-decoration-color: #800080\">    0.6888066530227661     </span>│\n",
       "└───────────────────────────┴───────────────────────────┘\n",
       "</pre>\n"
      ],
      "text/plain": [
       "┏━━━━━━━━━━━━━━━━━━━━━━━━━━━┳━━━━━━━━━━━━━━━━━━━━━━━━━━━┓\n",
       "┃\u001b[1m \u001b[0m\u001b[1m     Validate metric     \u001b[0m\u001b[1m \u001b[0m┃\u001b[1m \u001b[0m\u001b[1m      DataLoader 0       \u001b[0m\u001b[1m \u001b[0m┃\n",
       "┡━━━━━━━━━━━━━━━━━━━━━━━━━━━╇━━━━━━━━━━━━━━━━━━━━━━━━━━━┩\n",
       "│\u001b[36m \u001b[0m\u001b[36m         val_acc         \u001b[0m\u001b[36m \u001b[0m│\u001b[35m \u001b[0m\u001b[35m   0.7820166349411011    \u001b[0m\u001b[35m \u001b[0m│\n",
       "│\u001b[36m \u001b[0m\u001b[36m        val_loss         \u001b[0m\u001b[36m \u001b[0m│\u001b[35m \u001b[0m\u001b[35m   0.6888066530227661    \u001b[0m\u001b[35m \u001b[0m│\n",
       "└───────────────────────────┴───────────────────────────┘\n"
      ]
     },
     "metadata": {},
     "output_type": "display_data"
    },
    {
     "data": {
      "text/plain": [
       "[{'val_loss': 0.6888066530227661, 'val_acc': 0.7820166349411011}]"
      ]
     },
     "execution_count": 45,
     "metadata": {},
     "output_type": "execute_result"
    }
   ],
   "source": [
    "trainer.validate(datamodule=datamodule,ckpt_path='best')"
   ]
  },
  {
   "cell_type": "code",
   "execution_count": 46,
   "id": "d75796e6",
   "metadata": {},
   "outputs": [
    {
     "name": "stderr",
     "output_type": "stream",
     "text": [
      "Restoring states from the checkpoint path at logs/Norm_Transformers_ce_embed_128/version_2/checkpoints/model-epoch=17-val_loss=0.69-val_acc=0.78.ckpt\n",
      "LOCAL_RANK: 0 - CUDA_VISIBLE_DEVICES: [0]\n",
      "Loaded model weights from the checkpoint at logs/Norm_Transformers_ce_embed_128/version_2/checkpoints/model-epoch=17-val_loss=0.69-val_acc=0.78.ckpt\n"
     ]
    },
    {
     "data": {
      "application/vnd.jupyter.widget-view+json": {
       "model_id": "e0dc694195584205b4e5e3dafc29f8d5",
       "version_major": 2,
       "version_minor": 0
      },
      "text/plain": [
       "Predicting: |          | 0/? [00:00<?, ?it/s]"
      ]
     },
     "metadata": {},
     "output_type": "display_data"
    }
   ],
   "source": [
    "output = trainer.predict(datamodule=datamodule,ckpt_path='best')"
   ]
  },
  {
   "cell_type": "code",
   "execution_count": 47,
   "id": "cb7f2748",
   "metadata": {},
   "outputs": [],
   "source": [
    "def to_csv(model_out:list[torch.Tensor], output_path:str):\n",
    "    output = torch.cat(model_out, dim=0)\n",
    "    output = torch.argmax(output, dim=1)\n",
    "    \n",
    "    ids = list(range(len(output)))\n",
    "    df = pd.DataFrame({\"ID\": ids, \"label\": output})\n",
    "    \n",
    "    df.to_csv(output_path, index=False)\n",
    "    return df"
   ]
  },
  {
   "cell_type": "code",
   "execution_count": 48,
   "id": "122d19f1",
   "metadata": {},
   "outputs": [
    {
     "data": {
      "application/vnd.microsoft.datawrangler.viewer.v0+json": {
       "columns": [
        {
         "name": "index",
         "rawType": "int64",
         "type": "integer"
        },
        {
         "name": "ID",
         "rawType": "int64",
         "type": "integer"
        },
        {
         "name": "label",
         "rawType": "int64",
         "type": "integer"
        }
       ],
       "conversionMethod": "pd.DataFrame",
       "ref": "f8ff0920-548d-4a38-ba74-507d8ce2efb7",
       "rows": [
        [
         "0",
         "0",
         "10"
        ],
        [
         "1",
         "1",
         "5"
        ],
        [
         "2",
         "2",
         "11"
        ],
        [
         "3",
         "3",
         "12"
        ],
        [
         "4",
         "4",
         "0"
        ],
        [
         "5",
         "5",
         "0"
        ],
        [
         "6",
         "6",
         "11"
        ],
        [
         "7",
         "7",
         "2"
        ],
        [
         "8",
         "8",
         "0"
        ],
        [
         "9",
         "9",
         "2"
        ],
        [
         "10",
         "10",
         "0"
        ],
        [
         "11",
         "11",
         "2"
        ],
        [
         "12",
         "12",
         "0"
        ],
        [
         "13",
         "13",
         "12"
        ],
        [
         "14",
         "14",
         "2"
        ],
        [
         "15",
         "15",
         "2"
        ],
        [
         "16",
         "16",
         "2"
        ],
        [
         "17",
         "17",
         "2"
        ],
        [
         "18",
         "18",
         "0"
        ],
        [
         "19",
         "19",
         "2"
        ],
        [
         "20",
         "20",
         "0"
        ],
        [
         "21",
         "21",
         "0"
        ],
        [
         "22",
         "22",
         "7"
        ],
        [
         "23",
         "23",
         "11"
        ],
        [
         "24",
         "24",
         "0"
        ],
        [
         "25",
         "25",
         "0"
        ],
        [
         "26",
         "26",
         "11"
        ],
        [
         "27",
         "27",
         "0"
        ],
        [
         "28",
         "28",
         "0"
        ],
        [
         "29",
         "29",
         "2"
        ],
        [
         "30",
         "30",
         "2"
        ],
        [
         "31",
         "31",
         "2"
        ],
        [
         "32",
         "32",
         "7"
        ],
        [
         "33",
         "33",
         "0"
        ],
        [
         "34",
         "34",
         "4"
        ],
        [
         "35",
         "35",
         "2"
        ],
        [
         "36",
         "36",
         "0"
        ],
        [
         "37",
         "37",
         "0"
        ],
        [
         "38",
         "38",
         "11"
        ],
        [
         "39",
         "39",
         "2"
        ],
        [
         "40",
         "40",
         "0"
        ],
        [
         "41",
         "41",
         "11"
        ],
        [
         "42",
         "42",
         "2"
        ],
        [
         "43",
         "43",
         "0"
        ],
        [
         "44",
         "44",
         "5"
        ],
        [
         "45",
         "45",
         "0"
        ],
        [
         "46",
         "46",
         "2"
        ],
        [
         "47",
         "47",
         "0"
        ],
        [
         "48",
         "48",
         "13"
        ],
        [
         "49",
         "49",
         "0"
        ]
       ],
       "shape": {
        "columns": 2,
        "rows": 1000
       }
      },
      "text/html": [
       "<div>\n",
       "<style scoped>\n",
       "    .dataframe tbody tr th:only-of-type {\n",
       "        vertical-align: middle;\n",
       "    }\n",
       "\n",
       "    .dataframe tbody tr th {\n",
       "        vertical-align: top;\n",
       "    }\n",
       "\n",
       "    .dataframe thead th {\n",
       "        text-align: right;\n",
       "    }\n",
       "</style>\n",
       "<table border=\"1\" class=\"dataframe\">\n",
       "  <thead>\n",
       "    <tr style=\"text-align: right;\">\n",
       "      <th></th>\n",
       "      <th>ID</th>\n",
       "      <th>label</th>\n",
       "    </tr>\n",
       "  </thead>\n",
       "  <tbody>\n",
       "    <tr>\n",
       "      <th>0</th>\n",
       "      <td>0</td>\n",
       "      <td>10</td>\n",
       "    </tr>\n",
       "    <tr>\n",
       "      <th>1</th>\n",
       "      <td>1</td>\n",
       "      <td>5</td>\n",
       "    </tr>\n",
       "    <tr>\n",
       "      <th>2</th>\n",
       "      <td>2</td>\n",
       "      <td>11</td>\n",
       "    </tr>\n",
       "    <tr>\n",
       "      <th>3</th>\n",
       "      <td>3</td>\n",
       "      <td>12</td>\n",
       "    </tr>\n",
       "    <tr>\n",
       "      <th>4</th>\n",
       "      <td>4</td>\n",
       "      <td>0</td>\n",
       "    </tr>\n",
       "    <tr>\n",
       "      <th>...</th>\n",
       "      <td>...</td>\n",
       "      <td>...</td>\n",
       "    </tr>\n",
       "    <tr>\n",
       "      <th>995</th>\n",
       "      <td>995</td>\n",
       "      <td>2</td>\n",
       "    </tr>\n",
       "    <tr>\n",
       "      <th>996</th>\n",
       "      <td>996</td>\n",
       "      <td>0</td>\n",
       "    </tr>\n",
       "    <tr>\n",
       "      <th>997</th>\n",
       "      <td>997</td>\n",
       "      <td>2</td>\n",
       "    </tr>\n",
       "    <tr>\n",
       "      <th>998</th>\n",
       "      <td>998</td>\n",
       "      <td>0</td>\n",
       "    </tr>\n",
       "    <tr>\n",
       "      <th>999</th>\n",
       "      <td>999</td>\n",
       "      <td>2</td>\n",
       "    </tr>\n",
       "  </tbody>\n",
       "</table>\n",
       "<p>1000 rows × 2 columns</p>\n",
       "</div>"
      ],
      "text/plain": [
       "      ID  label\n",
       "0      0     10\n",
       "1      1      5\n",
       "2      2     11\n",
       "3      3     12\n",
       "4      4      0\n",
       "..   ...    ...\n",
       "995  995      2\n",
       "996  996      0\n",
       "997  997      2\n",
       "998  998      0\n",
       "999  999      2\n",
       "\n",
       "[1000 rows x 2 columns]"
      ]
     },
     "execution_count": 48,
     "metadata": {},
     "output_type": "execute_result"
    }
   ],
   "source": [
    "to_csv(output, str(OUTPUT_PATH / \"submission.csv\"))"
   ]
  },
  {
   "cell_type": "code",
   "execution_count": 49,
   "id": "17fd1f08",
   "metadata": {},
   "outputs": [],
   "source": [
    "import matplotlib.pyplot as plt\n",
    "def plot_graph_plt_nn(logs: pd.DataFrame, title: str):\n",
    "    fig, axs = plt.subplots(1, 2, figsize=(14, 6))\n",
    "    \n",
    "    # Plot Loss on the first subplot\n",
    "    axs[0].plot(logs.index, logs[\"train_loss\"],  label=\"Training Loss\")\n",
    "    axs[0].plot(logs.index, logs[\"val_loss\"],  label=\"Val Loss\")\n",
    "    axs[0].set_xlabel(\"Iteration\")\n",
    "    axs[0].set_ylabel(\"Loss\")\n",
    "    axs[0].set_title(\"Loss\")\n",
    "    axs[0].legend()\n",
    "    \n",
    "    # Plot Accuracy on the second subplot\n",
    "    axs[1].plot(logs.index, logs[\"train_acc\"],  label=\"Training Acc\")\n",
    "    axs[1].plot(logs.index, logs[\"val_acc\"],  label=\"Val Acc\")\n",
    "    axs[1].set_xlabel(\"Iteration\")\n",
    "    axs[1].set_ylabel(\"Accuracy\")\n",
    "    axs[1].set_title(\"Accuracy\")\n",
    "    axs[1].legend()\n",
    "    \n",
    "    fig.suptitle(title)\n",
    "    plt.tight_layout()\n",
    "    plt.show()"
   ]
  },
  {
   "cell_type": "code",
   "execution_count": 50,
   "id": "6531fb7a",
   "metadata": {},
   "outputs": [],
   "source": [
    "dir_path = checkpoint_callback.best_model_path.split(\"/\")[:-2]\n",
    "dir_path = \"/\".join(dir_path)\n",
    "\n",
    "res_var = pd.read_csv(f\"{dir_path}/metrics.csv\")\n",
    "res_var= res_var.ffill().fillna(0)"
   ]
  },
  {
   "cell_type": "code",
   "execution_count": 51,
   "id": "79bd970b",
   "metadata": {},
   "outputs": [
    {
     "data": {
      "image/png": "[encoded data removed]",
      "text/plain": [
       "<Figure size 1400x600 with 2 Axes>"
      ]
     },
     "metadata": {},
     "output_type": "display_data"
    }
   ],
   "source": [
    "plot_graph_plt_nn(res_var, f\"Classification Loss and Accuracy\")"
   ]
  }
 ],
 "metadata": {
  "kernelspec": {
   "display_name": "DL",
   "language": "python",
   "name": "python3"
  },
  "language_info": {
   "codemirror_mode": {
    "name": "ipython",
    "version": 3
   },
   "file_extension": ".py",
   "mimetype": "text/x-python",
   "name": "python",
   "nbconvert_exporter": "python",
   "pygments_lexer": "ipython3",
   "version": "3.12.9"
  }
 },
 "nbformat": 4,
 "nbformat_minor": 5
}
